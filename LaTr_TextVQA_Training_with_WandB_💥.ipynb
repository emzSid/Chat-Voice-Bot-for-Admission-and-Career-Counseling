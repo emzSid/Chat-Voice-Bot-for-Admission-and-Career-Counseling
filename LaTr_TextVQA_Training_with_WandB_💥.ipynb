{
  "metadata": {
    "kernelspec": {
      "display_name": "Python 3",
      "name": "python3"
    },
    "language_info": {
      "pygments_lexer": "ipython3",
      "nbconvert_exporter": "python",
      "version": "3.6.4",
      "file_extension": ".py",
      "codemirror_mode": {
        "name": "ipython",
        "version": 3
      },
      "name": "python",
      "mimetype": "text/x-python"
    },
    "colab": {
      "provenance": [],
      "include_colab_link": true
    },
    "accelerator": "TPU",
    "widgets": {
      "application/vnd.jupyter.widget-state+json": {
        "6959cf045016494aaae493eadc6c5400": {
          "model_module": "@jupyter-widgets/controls",
          "model_name": "HBoxModel",
          "model_module_version": "1.5.0",
          "state": {
            "_dom_classes": [],
            "_model_module": "@jupyter-widgets/controls",
            "_model_module_version": "1.5.0",
            "_model_name": "HBoxModel",
            "_view_count": null,
            "_view_module": "@jupyter-widgets/controls",
            "_view_module_version": "1.5.0",
            "_view_name": "HBoxView",
            "box_style": "",
            "children": [
              "IPY_MODEL_9b602b315655442fba78933b2e5a6583",
              "IPY_MODEL_1c8e3fa9bddb4a39b1775a7e0c4db169",
              "IPY_MODEL_a0cf3700bcbe4b0aac1e642b9d7ade60"
            ],
            "layout": "IPY_MODEL_ae07a77f5fc74183b6c315045de3d063"
          }
        },
        "9b602b315655442fba78933b2e5a6583": {
          "model_module": "@jupyter-widgets/controls",
          "model_name": "HTMLModel",
          "model_module_version": "1.5.0",
          "state": {
            "_dom_classes": [],
            "_model_module": "@jupyter-widgets/controls",
            "_model_module_version": "1.5.0",
            "_model_name": "HTMLModel",
            "_view_count": null,
            "_view_module": "@jupyter-widgets/controls",
            "_view_module_version": "1.5.0",
            "_view_name": "HTMLView",
            "description": "",
            "description_tooltip": null,
            "layout": "IPY_MODEL_57aba258eef841de85b74a13fb8cb6a5",
            "placeholder": "​",
            "style": "IPY_MODEL_b779f393964744b6b7d7f4d991c90017",
            "value": "100%"
          }
        },
        "1c8e3fa9bddb4a39b1775a7e0c4db169": {
          "model_module": "@jupyter-widgets/controls",
          "model_name": "FloatProgressModel",
          "model_module_version": "1.5.0",
          "state": {
            "_dom_classes": [],
            "_model_module": "@jupyter-widgets/controls",
            "_model_module_version": "1.5.0",
            "_model_name": "FloatProgressModel",
            "_view_count": null,
            "_view_module": "@jupyter-widgets/controls",
            "_view_module_version": "1.5.0",
            "_view_name": "ProgressView",
            "bar_style": "success",
            "description": "",
            "description_tooltip": null,
            "layout": "IPY_MODEL_b043b93cf5084a3fad06887ef8beda94",
            "max": 34602,
            "min": 0,
            "orientation": "horizontal",
            "style": "IPY_MODEL_85a8664a9839489e80f7e16f3d2b933c",
            "value": 34602
          }
        },
        "a0cf3700bcbe4b0aac1e642b9d7ade60": {
          "model_module": "@jupyter-widgets/controls",
          "model_name": "HTMLModel",
          "model_module_version": "1.5.0",
          "state": {
            "_dom_classes": [],
            "_model_module": "@jupyter-widgets/controls",
            "_model_module_version": "1.5.0",
            "_model_name": "HTMLModel",
            "_view_count": null,
            "_view_module": "@jupyter-widgets/controls",
            "_view_module_version": "1.5.0",
            "_view_name": "HTMLView",
            "description": "",
            "description_tooltip": null,
            "layout": "IPY_MODEL_0881012d873a4c42b331508a6860cd91",
            "placeholder": "​",
            "style": "IPY_MODEL_b17eaf2de0514ff5a473f6f4fbb4fc9b",
            "value": " 34602/34602 [00:00&lt;00:00, 43038.91it/s]"
          }
        },
        "ae07a77f5fc74183b6c315045de3d063": {
          "model_module": "@jupyter-widgets/base",
          "model_name": "LayoutModel",
          "model_module_version": "1.2.0",
          "state": {
            "_model_module": "@jupyter-widgets/base",
            "_model_module_version": "1.2.0",
            "_model_name": "LayoutModel",
            "_view_count": null,
            "_view_module": "@jupyter-widgets/base",
            "_view_module_version": "1.2.0",
            "_view_name": "LayoutView",
            "align_content": null,
            "align_items": null,
            "align_self": null,
            "border": null,
            "bottom": null,
            "display": null,
            "flex": null,
            "flex_flow": null,
            "grid_area": null,
            "grid_auto_columns": null,
            "grid_auto_flow": null,
            "grid_auto_rows": null,
            "grid_column": null,
            "grid_gap": null,
            "grid_row": null,
            "grid_template_areas": null,
            "grid_template_columns": null,
            "grid_template_rows": null,
            "height": null,
            "justify_content": null,
            "justify_items": null,
            "left": null,
            "margin": null,
            "max_height": null,
            "max_width": null,
            "min_height": null,
            "min_width": null,
            "object_fit": null,
            "object_position": null,
            "order": null,
            "overflow": null,
            "overflow_x": null,
            "overflow_y": null,
            "padding": null,
            "right": null,
            "top": null,
            "visibility": null,
            "width": null
          }
        },
        "57aba258eef841de85b74a13fb8cb6a5": {
          "model_module": "@jupyter-widgets/base",
          "model_name": "LayoutModel",
          "model_module_version": "1.2.0",
          "state": {
            "_model_module": "@jupyter-widgets/base",
            "_model_module_version": "1.2.0",
            "_model_name": "LayoutModel",
            "_view_count": null,
            "_view_module": "@jupyter-widgets/base",
            "_view_module_version": "1.2.0",
            "_view_name": "LayoutView",
            "align_content": null,
            "align_items": null,
            "align_self": null,
            "border": null,
            "bottom": null,
            "display": null,
            "flex": null,
            "flex_flow": null,
            "grid_area": null,
            "grid_auto_columns": null,
            "grid_auto_flow": null,
            "grid_auto_rows": null,
            "grid_column": null,
            "grid_gap": null,
            "grid_row": null,
            "grid_template_areas": null,
            "grid_template_columns": null,
            "grid_template_rows": null,
            "height": null,
            "justify_content": null,
            "justify_items": null,
            "left": null,
            "margin": null,
            "max_height": null,
            "max_width": null,
            "min_height": null,
            "min_width": null,
            "object_fit": null,
            "object_position": null,
            "order": null,
            "overflow": null,
            "overflow_x": null,
            "overflow_y": null,
            "padding": null,
            "right": null,
            "top": null,
            "visibility": null,
            "width": null
          }
        },
        "b779f393964744b6b7d7f4d991c90017": {
          "model_module": "@jupyter-widgets/controls",
          "model_name": "DescriptionStyleModel",
          "model_module_version": "1.5.0",
          "state": {
            "_model_module": "@jupyter-widgets/controls",
            "_model_module_version": "1.5.0",
            "_model_name": "DescriptionStyleModel",
            "_view_count": null,
            "_view_module": "@jupyter-widgets/base",
            "_view_module_version": "1.2.0",
            "_view_name": "StyleView",
            "description_width": ""
          }
        },
        "b043b93cf5084a3fad06887ef8beda94": {
          "model_module": "@jupyter-widgets/base",
          "model_name": "LayoutModel",
          "model_module_version": "1.2.0",
          "state": {
            "_model_module": "@jupyter-widgets/base",
            "_model_module_version": "1.2.0",
            "_model_name": "LayoutModel",
            "_view_count": null,
            "_view_module": "@jupyter-widgets/base",
            "_view_module_version": "1.2.0",
            "_view_name": "LayoutView",
            "align_content": null,
            "align_items": null,
            "align_self": null,
            "border": null,
            "bottom": null,
            "display": null,
            "flex": null,
            "flex_flow": null,
            "grid_area": null,
            "grid_auto_columns": null,
            "grid_auto_flow": null,
            "grid_auto_rows": null,
            "grid_column": null,
            "grid_gap": null,
            "grid_row": null,
            "grid_template_areas": null,
            "grid_template_columns": null,
            "grid_template_rows": null,
            "height": null,
            "justify_content": null,
            "justify_items": null,
            "left": null,
            "margin": null,
            "max_height": null,
            "max_width": null,
            "min_height": null,
            "min_width": null,
            "object_fit": null,
            "object_position": null,
            "order": null,
            "overflow": null,
            "overflow_x": null,
            "overflow_y": null,
            "padding": null,
            "right": null,
            "top": null,
            "visibility": null,
            "width": null
          }
        },
        "85a8664a9839489e80f7e16f3d2b933c": {
          "model_module": "@jupyter-widgets/controls",
          "model_name": "ProgressStyleModel",
          "model_module_version": "1.5.0",
          "state": {
            "_model_module": "@jupyter-widgets/controls",
            "_model_module_version": "1.5.0",
            "_model_name": "ProgressStyleModel",
            "_view_count": null,
            "_view_module": "@jupyter-widgets/base",
            "_view_module_version": "1.2.0",
            "_view_name": "StyleView",
            "bar_color": null,
            "description_width": ""
          }
        },
        "0881012d873a4c42b331508a6860cd91": {
          "model_module": "@jupyter-widgets/base",
          "model_name": "LayoutModel",
          "model_module_version": "1.2.0",
          "state": {
            "_model_module": "@jupyter-widgets/base",
            "_model_module_version": "1.2.0",
            "_model_name": "LayoutModel",
            "_view_count": null,
            "_view_module": "@jupyter-widgets/base",
            "_view_module_version": "1.2.0",
            "_view_name": "LayoutView",
            "align_content": null,
            "align_items": null,
            "align_self": null,
            "border": null,
            "bottom": null,
            "display": null,
            "flex": null,
            "flex_flow": null,
            "grid_area": null,
            "grid_auto_columns": null,
            "grid_auto_flow": null,
            "grid_auto_rows": null,
            "grid_column": null,
            "grid_gap": null,
            "grid_row": null,
            "grid_template_areas": null,
            "grid_template_columns": null,
            "grid_template_rows": null,
            "height": null,
            "justify_content": null,
            "justify_items": null,
            "left": null,
            "margin": null,
            "max_height": null,
            "max_width": null,
            "min_height": null,
            "min_width": null,
            "object_fit": null,
            "object_position": null,
            "order": null,
            "overflow": null,
            "overflow_x": null,
            "overflow_y": null,
            "padding": null,
            "right": null,
            "top": null,
            "visibility": null,
            "width": null
          }
        },
        "b17eaf2de0514ff5a473f6f4fbb4fc9b": {
          "model_module": "@jupyter-widgets/controls",
          "model_name": "DescriptionStyleModel",
          "model_module_version": "1.5.0",
          "state": {
            "_model_module": "@jupyter-widgets/controls",
            "_model_module_version": "1.5.0",
            "_model_name": "DescriptionStyleModel",
            "_view_count": null,
            "_view_module": "@jupyter-widgets/base",
            "_view_module_version": "1.2.0",
            "_view_name": "StyleView",
            "description_width": ""
          }
        },
        "80c141627be54206901d8fe38df5d957": {
          "model_module": "@jupyter-widgets/controls",
          "model_name": "HBoxModel",
          "model_module_version": "1.5.0",
          "state": {
            "_dom_classes": [],
            "_model_module": "@jupyter-widgets/controls",
            "_model_module_version": "1.5.0",
            "_model_name": "HBoxModel",
            "_view_count": null,
            "_view_module": "@jupyter-widgets/controls",
            "_view_module_version": "1.5.0",
            "_view_name": "HBoxView",
            "box_style": "",
            "children": [
              "IPY_MODEL_dab20541b0e84c3fa958002a13d30f86",
              "IPY_MODEL_6a2aceada37c48198313e953f0a50466",
              "IPY_MODEL_865df3025f0648bdaa5915ce52679ef0"
            ],
            "layout": "IPY_MODEL_a3e99003abe643b0b3d9e811aed08ad1"
          }
        },
        "dab20541b0e84c3fa958002a13d30f86": {
          "model_module": "@jupyter-widgets/controls",
          "model_name": "HTMLModel",
          "model_module_version": "1.5.0",
          "state": {
            "_dom_classes": [],
            "_model_module": "@jupyter-widgets/controls",
            "_model_module_version": "1.5.0",
            "_model_name": "HTMLModel",
            "_view_count": null,
            "_view_module": "@jupyter-widgets/controls",
            "_view_module_version": "1.5.0",
            "_view_name": "HTMLView",
            "description": "",
            "description_tooltip": null,
            "layout": "IPY_MODEL_ece07955f40047e3a7e1abd8fa32856d",
            "placeholder": "​",
            "style": "IPY_MODEL_3a2b40268ae0433780c06c65a1a3e821",
            "value": "100%"
          }
        },
        "6a2aceada37c48198313e953f0a50466": {
          "model_module": "@jupyter-widgets/controls",
          "model_name": "FloatProgressModel",
          "model_module_version": "1.5.0",
          "state": {
            "_dom_classes": [],
            "_model_module": "@jupyter-widgets/controls",
            "_model_module_version": "1.5.0",
            "_model_name": "FloatProgressModel",
            "_view_count": null,
            "_view_module": "@jupyter-widgets/controls",
            "_view_module_version": "1.5.0",
            "_view_name": "ProgressView",
            "bar_style": "success",
            "description": "",
            "description_tooltip": null,
            "layout": "IPY_MODEL_df6c0b3f3c9047a693e89922e9b73a5a",
            "max": 5000,
            "min": 0,
            "orientation": "horizontal",
            "style": "IPY_MODEL_c2afd74e46d04097a1d1a04f36f00145",
            "value": 5000
          }
        },
        "865df3025f0648bdaa5915ce52679ef0": {
          "model_module": "@jupyter-widgets/controls",
          "model_name": "HTMLModel",
          "model_module_version": "1.5.0",
          "state": {
            "_dom_classes": [],
            "_model_module": "@jupyter-widgets/controls",
            "_model_module_version": "1.5.0",
            "_model_name": "HTMLModel",
            "_view_count": null,
            "_view_module": "@jupyter-widgets/controls",
            "_view_module_version": "1.5.0",
            "_view_name": "HTMLView",
            "description": "",
            "description_tooltip": null,
            "layout": "IPY_MODEL_e52e3cc423da4a30b73593857bf9ea37",
            "placeholder": "​",
            "style": "IPY_MODEL_4e5883a2a8c64ba48922d5156ad55542",
            "value": " 5000/5000 [00:00&lt;00:00, 19498.44it/s]"
          }
        },
        "a3e99003abe643b0b3d9e811aed08ad1": {
          "model_module": "@jupyter-widgets/base",
          "model_name": "LayoutModel",
          "model_module_version": "1.2.0",
          "state": {
            "_model_module": "@jupyter-widgets/base",
            "_model_module_version": "1.2.0",
            "_model_name": "LayoutModel",
            "_view_count": null,
            "_view_module": "@jupyter-widgets/base",
            "_view_module_version": "1.2.0",
            "_view_name": "LayoutView",
            "align_content": null,
            "align_items": null,
            "align_self": null,
            "border": null,
            "bottom": null,
            "display": null,
            "flex": null,
            "flex_flow": null,
            "grid_area": null,
            "grid_auto_columns": null,
            "grid_auto_flow": null,
            "grid_auto_rows": null,
            "grid_column": null,
            "grid_gap": null,
            "grid_row": null,
            "grid_template_areas": null,
            "grid_template_columns": null,
            "grid_template_rows": null,
            "height": null,
            "justify_content": null,
            "justify_items": null,
            "left": null,
            "margin": null,
            "max_height": null,
            "max_width": null,
            "min_height": null,
            "min_width": null,
            "object_fit": null,
            "object_position": null,
            "order": null,
            "overflow": null,
            "overflow_x": null,
            "overflow_y": null,
            "padding": null,
            "right": null,
            "top": null,
            "visibility": null,
            "width": null
          }
        },
        "ece07955f40047e3a7e1abd8fa32856d": {
          "model_module": "@jupyter-widgets/base",
          "model_name": "LayoutModel",
          "model_module_version": "1.2.0",
          "state": {
            "_model_module": "@jupyter-widgets/base",
            "_model_module_version": "1.2.0",
            "_model_name": "LayoutModel",
            "_view_count": null,
            "_view_module": "@jupyter-widgets/base",
            "_view_module_version": "1.2.0",
            "_view_name": "LayoutView",
            "align_content": null,
            "align_items": null,
            "align_self": null,
            "border": null,
            "bottom": null,
            "display": null,
            "flex": null,
            "flex_flow": null,
            "grid_area": null,
            "grid_auto_columns": null,
            "grid_auto_flow": null,
            "grid_auto_rows": null,
            "grid_column": null,
            "grid_gap": null,
            "grid_row": null,
            "grid_template_areas": null,
            "grid_template_columns": null,
            "grid_template_rows": null,
            "height": null,
            "justify_content": null,
            "justify_items": null,
            "left": null,
            "margin": null,
            "max_height": null,
            "max_width": null,
            "min_height": null,
            "min_width": null,
            "object_fit": null,
            "object_position": null,
            "order": null,
            "overflow": null,
            "overflow_x": null,
            "overflow_y": null,
            "padding": null,
            "right": null,
            "top": null,
            "visibility": null,
            "width": null
          }
        },
        "3a2b40268ae0433780c06c65a1a3e821": {
          "model_module": "@jupyter-widgets/controls",
          "model_name": "DescriptionStyleModel",
          "model_module_version": "1.5.0",
          "state": {
            "_model_module": "@jupyter-widgets/controls",
            "_model_module_version": "1.5.0",
            "_model_name": "DescriptionStyleModel",
            "_view_count": null,
            "_view_module": "@jupyter-widgets/base",
            "_view_module_version": "1.2.0",
            "_view_name": "StyleView",
            "description_width": ""
          }
        },
        "df6c0b3f3c9047a693e89922e9b73a5a": {
          "model_module": "@jupyter-widgets/base",
          "model_name": "LayoutModel",
          "model_module_version": "1.2.0",
          "state": {
            "_model_module": "@jupyter-widgets/base",
            "_model_module_version": "1.2.0",
            "_model_name": "LayoutModel",
            "_view_count": null,
            "_view_module": "@jupyter-widgets/base",
            "_view_module_version": "1.2.0",
            "_view_name": "LayoutView",
            "align_content": null,
            "align_items": null,
            "align_self": null,
            "border": null,
            "bottom": null,
            "display": null,
            "flex": null,
            "flex_flow": null,
            "grid_area": null,
            "grid_auto_columns": null,
            "grid_auto_flow": null,
            "grid_auto_rows": null,
            "grid_column": null,
            "grid_gap": null,
            "grid_row": null,
            "grid_template_areas": null,
            "grid_template_columns": null,
            "grid_template_rows": null,
            "height": null,
            "justify_content": null,
            "justify_items": null,
            "left": null,
            "margin": null,
            "max_height": null,
            "max_width": null,
            "min_height": null,
            "min_width": null,
            "object_fit": null,
            "object_position": null,
            "order": null,
            "overflow": null,
            "overflow_x": null,
            "overflow_y": null,
            "padding": null,
            "right": null,
            "top": null,
            "visibility": null,
            "width": null
          }
        },
        "c2afd74e46d04097a1d1a04f36f00145": {
          "model_module": "@jupyter-widgets/controls",
          "model_name": "ProgressStyleModel",
          "model_module_version": "1.5.0",
          "state": {
            "_model_module": "@jupyter-widgets/controls",
            "_model_module_version": "1.5.0",
            "_model_name": "ProgressStyleModel",
            "_view_count": null,
            "_view_module": "@jupyter-widgets/base",
            "_view_module_version": "1.2.0",
            "_view_name": "StyleView",
            "bar_color": null,
            "description_width": ""
          }
        },
        "e52e3cc423da4a30b73593857bf9ea37": {
          "model_module": "@jupyter-widgets/base",
          "model_name": "LayoutModel",
          "model_module_version": "1.2.0",
          "state": {
            "_model_module": "@jupyter-widgets/base",
            "_model_module_version": "1.2.0",
            "_model_name": "LayoutModel",
            "_view_count": null,
            "_view_module": "@jupyter-widgets/base",
            "_view_module_version": "1.2.0",
            "_view_name": "LayoutView",
            "align_content": null,
            "align_items": null,
            "align_self": null,
            "border": null,
            "bottom": null,
            "display": null,
            "flex": null,
            "flex_flow": null,
            "grid_area": null,
            "grid_auto_columns": null,
            "grid_auto_flow": null,
            "grid_auto_rows": null,
            "grid_column": null,
            "grid_gap": null,
            "grid_row": null,
            "grid_template_areas": null,
            "grid_template_columns": null,
            "grid_template_rows": null,
            "height": null,
            "justify_content": null,
            "justify_items": null,
            "left": null,
            "margin": null,
            "max_height": null,
            "max_width": null,
            "min_height": null,
            "min_width": null,
            "object_fit": null,
            "object_position": null,
            "order": null,
            "overflow": null,
            "overflow_x": null,
            "overflow_y": null,
            "padding": null,
            "right": null,
            "top": null,
            "visibility": null,
            "width": null
          }
        },
        "4e5883a2a8c64ba48922d5156ad55542": {
          "model_module": "@jupyter-widgets/controls",
          "model_name": "DescriptionStyleModel",
          "model_module_version": "1.5.0",
          "state": {
            "_model_module": "@jupyter-widgets/controls",
            "_model_module_version": "1.5.0",
            "_model_name": "DescriptionStyleModel",
            "_view_count": null,
            "_view_module": "@jupyter-widgets/base",
            "_view_module_version": "1.2.0",
            "_view_name": "StyleView",
            "description_width": ""
          }
        },
        "591fd66a78924e85bd622484c4a62018": {
          "model_module": "@jupyter-widgets/controls",
          "model_name": "HBoxModel",
          "model_module_version": "1.5.0",
          "state": {
            "_dom_classes": [],
            "_model_module": "@jupyter-widgets/controls",
            "_model_module_version": "1.5.0",
            "_model_name": "HBoxModel",
            "_view_count": null,
            "_view_module": "@jupyter-widgets/controls",
            "_view_module_version": "1.5.0",
            "_view_name": "HBoxView",
            "box_style": "",
            "children": [
              "IPY_MODEL_77b6a8422b064e5aa5e91a787a6cc0f9",
              "IPY_MODEL_db31110770764cae90060ee4373b4c4c",
              "IPY_MODEL_b39dc8dd75b94088a5b590b4b6bf7134"
            ],
            "layout": "IPY_MODEL_5420858c82db4d3e9d4d61027093b6bf"
          }
        },
        "77b6a8422b064e5aa5e91a787a6cc0f9": {
          "model_module": "@jupyter-widgets/controls",
          "model_name": "HTMLModel",
          "model_module_version": "1.5.0",
          "state": {
            "_dom_classes": [],
            "_model_module": "@jupyter-widgets/controls",
            "_model_module_version": "1.5.0",
            "_model_name": "HTMLModel",
            "_view_count": null,
            "_view_module": "@jupyter-widgets/controls",
            "_view_module_version": "1.5.0",
            "_view_name": "HTMLView",
            "description": "",
            "description_tooltip": null,
            "layout": "IPY_MODEL_9b9b41b86af947298ae70b8858925487",
            "placeholder": "​",
            "style": "IPY_MODEL_ac5263c824a847339f61b7f98ee14879",
            "value": "Downloading (…)ve/main/spiece.model: 100%"
          }
        },
        "db31110770764cae90060ee4373b4c4c": {
          "model_module": "@jupyter-widgets/controls",
          "model_name": "FloatProgressModel",
          "model_module_version": "1.5.0",
          "state": {
            "_dom_classes": [],
            "_model_module": "@jupyter-widgets/controls",
            "_model_module_version": "1.5.0",
            "_model_name": "FloatProgressModel",
            "_view_count": null,
            "_view_module": "@jupyter-widgets/controls",
            "_view_module_version": "1.5.0",
            "_view_name": "ProgressView",
            "bar_style": "success",
            "description": "",
            "description_tooltip": null,
            "layout": "IPY_MODEL_5fbebd0709b54381a038097fa1bb2713",
            "max": 791656,
            "min": 0,
            "orientation": "horizontal",
            "style": "IPY_MODEL_87705c1708b2456cb23c3d88a36cbe40",
            "value": 791656
          }
        },
        "b39dc8dd75b94088a5b590b4b6bf7134": {
          "model_module": "@jupyter-widgets/controls",
          "model_name": "HTMLModel",
          "model_module_version": "1.5.0",
          "state": {
            "_dom_classes": [],
            "_model_module": "@jupyter-widgets/controls",
            "_model_module_version": "1.5.0",
            "_model_name": "HTMLModel",
            "_view_count": null,
            "_view_module": "@jupyter-widgets/controls",
            "_view_module_version": "1.5.0",
            "_view_name": "HTMLView",
            "description": "",
            "description_tooltip": null,
            "layout": "IPY_MODEL_a5c05f90a6334a03b0e0d621a42b5513",
            "placeholder": "​",
            "style": "IPY_MODEL_b2c65771976a4c97b9e24b0a9bf5d34e",
            "value": " 792k/792k [00:00&lt;00:00, 4.40MB/s]"
          }
        },
        "5420858c82db4d3e9d4d61027093b6bf": {
          "model_module": "@jupyter-widgets/base",
          "model_name": "LayoutModel",
          "model_module_version": "1.2.0",
          "state": {
            "_model_module": "@jupyter-widgets/base",
            "_model_module_version": "1.2.0",
            "_model_name": "LayoutModel",
            "_view_count": null,
            "_view_module": "@jupyter-widgets/base",
            "_view_module_version": "1.2.0",
            "_view_name": "LayoutView",
            "align_content": null,
            "align_items": null,
            "align_self": null,
            "border": null,
            "bottom": null,
            "display": null,
            "flex": null,
            "flex_flow": null,
            "grid_area": null,
            "grid_auto_columns": null,
            "grid_auto_flow": null,
            "grid_auto_rows": null,
            "grid_column": null,
            "grid_gap": null,
            "grid_row": null,
            "grid_template_areas": null,
            "grid_template_columns": null,
            "grid_template_rows": null,
            "height": null,
            "justify_content": null,
            "justify_items": null,
            "left": null,
            "margin": null,
            "max_height": null,
            "max_width": null,
            "min_height": null,
            "min_width": null,
            "object_fit": null,
            "object_position": null,
            "order": null,
            "overflow": null,
            "overflow_x": null,
            "overflow_y": null,
            "padding": null,
            "right": null,
            "top": null,
            "visibility": null,
            "width": null
          }
        },
        "9b9b41b86af947298ae70b8858925487": {
          "model_module": "@jupyter-widgets/base",
          "model_name": "LayoutModel",
          "model_module_version": "1.2.0",
          "state": {
            "_model_module": "@jupyter-widgets/base",
            "_model_module_version": "1.2.0",
            "_model_name": "LayoutModel",
            "_view_count": null,
            "_view_module": "@jupyter-widgets/base",
            "_view_module_version": "1.2.0",
            "_view_name": "LayoutView",
            "align_content": null,
            "align_items": null,
            "align_self": null,
            "border": null,
            "bottom": null,
            "display": null,
            "flex": null,
            "flex_flow": null,
            "grid_area": null,
            "grid_auto_columns": null,
            "grid_auto_flow": null,
            "grid_auto_rows": null,
            "grid_column": null,
            "grid_gap": null,
            "grid_row": null,
            "grid_template_areas": null,
            "grid_template_columns": null,
            "grid_template_rows": null,
            "height": null,
            "justify_content": null,
            "justify_items": null,
            "left": null,
            "margin": null,
            "max_height": null,
            "max_width": null,
            "min_height": null,
            "min_width": null,
            "object_fit": null,
            "object_position": null,
            "order": null,
            "overflow": null,
            "overflow_x": null,
            "overflow_y": null,
            "padding": null,
            "right": null,
            "top": null,
            "visibility": null,
            "width": null
          }
        },
        "ac5263c824a847339f61b7f98ee14879": {
          "model_module": "@jupyter-widgets/controls",
          "model_name": "DescriptionStyleModel",
          "model_module_version": "1.5.0",
          "state": {
            "_model_module": "@jupyter-widgets/controls",
            "_model_module_version": "1.5.0",
            "_model_name": "DescriptionStyleModel",
            "_view_count": null,
            "_view_module": "@jupyter-widgets/base",
            "_view_module_version": "1.2.0",
            "_view_name": "StyleView",
            "description_width": ""
          }
        },
        "5fbebd0709b54381a038097fa1bb2713": {
          "model_module": "@jupyter-widgets/base",
          "model_name": "LayoutModel",
          "model_module_version": "1.2.0",
          "state": {
            "_model_module": "@jupyter-widgets/base",
            "_model_module_version": "1.2.0",
            "_model_name": "LayoutModel",
            "_view_count": null,
            "_view_module": "@jupyter-widgets/base",
            "_view_module_version": "1.2.0",
            "_view_name": "LayoutView",
            "align_content": null,
            "align_items": null,
            "align_self": null,
            "border": null,
            "bottom": null,
            "display": null,
            "flex": null,
            "flex_flow": null,
            "grid_area": null,
            "grid_auto_columns": null,
            "grid_auto_flow": null,
            "grid_auto_rows": null,
            "grid_column": null,
            "grid_gap": null,
            "grid_row": null,
            "grid_template_areas": null,
            "grid_template_columns": null,
            "grid_template_rows": null,
            "height": null,
            "justify_content": null,
            "justify_items": null,
            "left": null,
            "margin": null,
            "max_height": null,
            "max_width": null,
            "min_height": null,
            "min_width": null,
            "object_fit": null,
            "object_position": null,
            "order": null,
            "overflow": null,
            "overflow_x": null,
            "overflow_y": null,
            "padding": null,
            "right": null,
            "top": null,
            "visibility": null,
            "width": null
          }
        },
        "87705c1708b2456cb23c3d88a36cbe40": {
          "model_module": "@jupyter-widgets/controls",
          "model_name": "ProgressStyleModel",
          "model_module_version": "1.5.0",
          "state": {
            "_model_module": "@jupyter-widgets/controls",
            "_model_module_version": "1.5.0",
            "_model_name": "ProgressStyleModel",
            "_view_count": null,
            "_view_module": "@jupyter-widgets/base",
            "_view_module_version": "1.2.0",
            "_view_name": "StyleView",
            "bar_color": null,
            "description_width": ""
          }
        },
        "a5c05f90a6334a03b0e0d621a42b5513": {
          "model_module": "@jupyter-widgets/base",
          "model_name": "LayoutModel",
          "model_module_version": "1.2.0",
          "state": {
            "_model_module": "@jupyter-widgets/base",
            "_model_module_version": "1.2.0",
            "_model_name": "LayoutModel",
            "_view_count": null,
            "_view_module": "@jupyter-widgets/base",
            "_view_module_version": "1.2.0",
            "_view_name": "LayoutView",
            "align_content": null,
            "align_items": null,
            "align_self": null,
            "border": null,
            "bottom": null,
            "display": null,
            "flex": null,
            "flex_flow": null,
            "grid_area": null,
            "grid_auto_columns": null,
            "grid_auto_flow": null,
            "grid_auto_rows": null,
            "grid_column": null,
            "grid_gap": null,
            "grid_row": null,
            "grid_template_areas": null,
            "grid_template_columns": null,
            "grid_template_rows": null,
            "height": null,
            "justify_content": null,
            "justify_items": null,
            "left": null,
            "margin": null,
            "max_height": null,
            "max_width": null,
            "min_height": null,
            "min_width": null,
            "object_fit": null,
            "object_position": null,
            "order": null,
            "overflow": null,
            "overflow_x": null,
            "overflow_y": null,
            "padding": null,
            "right": null,
            "top": null,
            "visibility": null,
            "width": null
          }
        },
        "b2c65771976a4c97b9e24b0a9bf5d34e": {
          "model_module": "@jupyter-widgets/controls",
          "model_name": "DescriptionStyleModel",
          "model_module_version": "1.5.0",
          "state": {
            "_model_module": "@jupyter-widgets/controls",
            "_model_module_version": "1.5.0",
            "_model_name": "DescriptionStyleModel",
            "_view_count": null,
            "_view_module": "@jupyter-widgets/base",
            "_view_module_version": "1.2.0",
            "_view_name": "StyleView",
            "description_width": ""
          }
        },
        "b615782b6d1f4d1a9a2dc049b1e63660": {
          "model_module": "@jupyter-widgets/controls",
          "model_name": "HBoxModel",
          "model_module_version": "1.5.0",
          "state": {
            "_dom_classes": [],
            "_model_module": "@jupyter-widgets/controls",
            "_model_module_version": "1.5.0",
            "_model_name": "HBoxModel",
            "_view_count": null,
            "_view_module": "@jupyter-widgets/controls",
            "_view_module_version": "1.5.0",
            "_view_name": "HBoxView",
            "box_style": "",
            "children": [
              "IPY_MODEL_337a9c3da3ac4380a07c521585d1f275",
              "IPY_MODEL_058a4e144c3d4a078033299ada844dec",
              "IPY_MODEL_6b989939c45843e8a7f38a49eb4d0b51"
            ],
            "layout": "IPY_MODEL_6f2d395432234ed38a3e3e706cd0e879"
          }
        },
        "337a9c3da3ac4380a07c521585d1f275": {
          "model_module": "@jupyter-widgets/controls",
          "model_name": "HTMLModel",
          "model_module_version": "1.5.0",
          "state": {
            "_dom_classes": [],
            "_model_module": "@jupyter-widgets/controls",
            "_model_module_version": "1.5.0",
            "_model_name": "HTMLModel",
            "_view_count": null,
            "_view_module": "@jupyter-widgets/controls",
            "_view_module_version": "1.5.0",
            "_view_name": "HTMLView",
            "description": "",
            "description_tooltip": null,
            "layout": "IPY_MODEL_bea4a1f8f96d4726bd6138c6d0a00218",
            "placeholder": "​",
            "style": "IPY_MODEL_bf66e422385a4c089faf1b3e8de29b03",
            "value": "Downloading (…)/main/tokenizer.json: 100%"
          }
        },
        "058a4e144c3d4a078033299ada844dec": {
          "model_module": "@jupyter-widgets/controls",
          "model_name": "FloatProgressModel",
          "model_module_version": "1.5.0",
          "state": {
            "_dom_classes": [],
            "_model_module": "@jupyter-widgets/controls",
            "_model_module_version": "1.5.0",
            "_model_name": "FloatProgressModel",
            "_view_count": null,
            "_view_module": "@jupyter-widgets/controls",
            "_view_module_version": "1.5.0",
            "_view_name": "ProgressView",
            "bar_style": "success",
            "description": "",
            "description_tooltip": null,
            "layout": "IPY_MODEL_293f12bab99e452689dae8b23b989a6a",
            "max": 1389353,
            "min": 0,
            "orientation": "horizontal",
            "style": "IPY_MODEL_239c3630e6a44ab29626da9ef31e425e",
            "value": 1389353
          }
        },
        "6b989939c45843e8a7f38a49eb4d0b51": {
          "model_module": "@jupyter-widgets/controls",
          "model_name": "HTMLModel",
          "model_module_version": "1.5.0",
          "state": {
            "_dom_classes": [],
            "_model_module": "@jupyter-widgets/controls",
            "_model_module_version": "1.5.0",
            "_model_name": "HTMLModel",
            "_view_count": null,
            "_view_module": "@jupyter-widgets/controls",
            "_view_module_version": "1.5.0",
            "_view_name": "HTMLView",
            "description": "",
            "description_tooltip": null,
            "layout": "IPY_MODEL_728e030a2f7c4581811867ffceaba107",
            "placeholder": "​",
            "style": "IPY_MODEL_72d3462fe5e54bc7ae0ff921996a3c34",
            "value": " 1.39M/1.39M [00:00&lt;00:00, 16.4MB/s]"
          }
        },
        "6f2d395432234ed38a3e3e706cd0e879": {
          "model_module": "@jupyter-widgets/base",
          "model_name": "LayoutModel",
          "model_module_version": "1.2.0",
          "state": {
            "_model_module": "@jupyter-widgets/base",
            "_model_module_version": "1.2.0",
            "_model_name": "LayoutModel",
            "_view_count": null,
            "_view_module": "@jupyter-widgets/base",
            "_view_module_version": "1.2.0",
            "_view_name": "LayoutView",
            "align_content": null,
            "align_items": null,
            "align_self": null,
            "border": null,
            "bottom": null,
            "display": null,
            "flex": null,
            "flex_flow": null,
            "grid_area": null,
            "grid_auto_columns": null,
            "grid_auto_flow": null,
            "grid_auto_rows": null,
            "grid_column": null,
            "grid_gap": null,
            "grid_row": null,
            "grid_template_areas": null,
            "grid_template_columns": null,
            "grid_template_rows": null,
            "height": null,
            "justify_content": null,
            "justify_items": null,
            "left": null,
            "margin": null,
            "max_height": null,
            "max_width": null,
            "min_height": null,
            "min_width": null,
            "object_fit": null,
            "object_position": null,
            "order": null,
            "overflow": null,
            "overflow_x": null,
            "overflow_y": null,
            "padding": null,
            "right": null,
            "top": null,
            "visibility": null,
            "width": null
          }
        },
        "bea4a1f8f96d4726bd6138c6d0a00218": {
          "model_module": "@jupyter-widgets/base",
          "model_name": "LayoutModel",
          "model_module_version": "1.2.0",
          "state": {
            "_model_module": "@jupyter-widgets/base",
            "_model_module_version": "1.2.0",
            "_model_name": "LayoutModel",
            "_view_count": null,
            "_view_module": "@jupyter-widgets/base",
            "_view_module_version": "1.2.0",
            "_view_name": "LayoutView",
            "align_content": null,
            "align_items": null,
            "align_self": null,
            "border": null,
            "bottom": null,
            "display": null,
            "flex": null,
            "flex_flow": null,
            "grid_area": null,
            "grid_auto_columns": null,
            "grid_auto_flow": null,
            "grid_auto_rows": null,
            "grid_column": null,
            "grid_gap": null,
            "grid_row": null,
            "grid_template_areas": null,
            "grid_template_columns": null,
            "grid_template_rows": null,
            "height": null,
            "justify_content": null,
            "justify_items": null,
            "left": null,
            "margin": null,
            "max_height": null,
            "max_width": null,
            "min_height": null,
            "min_width": null,
            "object_fit": null,
            "object_position": null,
            "order": null,
            "overflow": null,
            "overflow_x": null,
            "overflow_y": null,
            "padding": null,
            "right": null,
            "top": null,
            "visibility": null,
            "width": null
          }
        },
        "bf66e422385a4c089faf1b3e8de29b03": {
          "model_module": "@jupyter-widgets/controls",
          "model_name": "DescriptionStyleModel",
          "model_module_version": "1.5.0",
          "state": {
            "_model_module": "@jupyter-widgets/controls",
            "_model_module_version": "1.5.0",
            "_model_name": "DescriptionStyleModel",
            "_view_count": null,
            "_view_module": "@jupyter-widgets/base",
            "_view_module_version": "1.2.0",
            "_view_name": "StyleView",
            "description_width": ""
          }
        },
        "293f12bab99e452689dae8b23b989a6a": {
          "model_module": "@jupyter-widgets/base",
          "model_name": "LayoutModel",
          "model_module_version": "1.2.0",
          "state": {
            "_model_module": "@jupyter-widgets/base",
            "_model_module_version": "1.2.0",
            "_model_name": "LayoutModel",
            "_view_count": null,
            "_view_module": "@jupyter-widgets/base",
            "_view_module_version": "1.2.0",
            "_view_name": "LayoutView",
            "align_content": null,
            "align_items": null,
            "align_self": null,
            "border": null,
            "bottom": null,
            "display": null,
            "flex": null,
            "flex_flow": null,
            "grid_area": null,
            "grid_auto_columns": null,
            "grid_auto_flow": null,
            "grid_auto_rows": null,
            "grid_column": null,
            "grid_gap": null,
            "grid_row": null,
            "grid_template_areas": null,
            "grid_template_columns": null,
            "grid_template_rows": null,
            "height": null,
            "justify_content": null,
            "justify_items": null,
            "left": null,
            "margin": null,
            "max_height": null,
            "max_width": null,
            "min_height": null,
            "min_width": null,
            "object_fit": null,
            "object_position": null,
            "order": null,
            "overflow": null,
            "overflow_x": null,
            "overflow_y": null,
            "padding": null,
            "right": null,
            "top": null,
            "visibility": null,
            "width": null
          }
        },
        "239c3630e6a44ab29626da9ef31e425e": {
          "model_module": "@jupyter-widgets/controls",
          "model_name": "ProgressStyleModel",
          "model_module_version": "1.5.0",
          "state": {
            "_model_module": "@jupyter-widgets/controls",
            "_model_module_version": "1.5.0",
            "_model_name": "ProgressStyleModel",
            "_view_count": null,
            "_view_module": "@jupyter-widgets/base",
            "_view_module_version": "1.2.0",
            "_view_name": "StyleView",
            "bar_color": null,
            "description_width": ""
          }
        },
        "728e030a2f7c4581811867ffceaba107": {
          "model_module": "@jupyter-widgets/base",
          "model_name": "LayoutModel",
          "model_module_version": "1.2.0",
          "state": {
            "_model_module": "@jupyter-widgets/base",
            "_model_module_version": "1.2.0",
            "_model_name": "LayoutModel",
            "_view_count": null,
            "_view_module": "@jupyter-widgets/base",
            "_view_module_version": "1.2.0",
            "_view_name": "LayoutView",
            "align_content": null,
            "align_items": null,
            "align_self": null,
            "border": null,
            "bottom": null,
            "display": null,
            "flex": null,
            "flex_flow": null,
            "grid_area": null,
            "grid_auto_columns": null,
            "grid_auto_flow": null,
            "grid_auto_rows": null,
            "grid_column": null,
            "grid_gap": null,
            "grid_row": null,
            "grid_template_areas": null,
            "grid_template_columns": null,
            "grid_template_rows": null,
            "height": null,
            "justify_content": null,
            "justify_items": null,
            "left": null,
            "margin": null,
            "max_height": null,
            "max_width": null,
            "min_height": null,
            "min_width": null,
            "object_fit": null,
            "object_position": null,
            "order": null,
            "overflow": null,
            "overflow_x": null,
            "overflow_y": null,
            "padding": null,
            "right": null,
            "top": null,
            "visibility": null,
            "width": null
          }
        },
        "72d3462fe5e54bc7ae0ff921996a3c34": {
          "model_module": "@jupyter-widgets/controls",
          "model_name": "DescriptionStyleModel",
          "model_module_version": "1.5.0",
          "state": {
            "_model_module": "@jupyter-widgets/controls",
            "_model_module_version": "1.5.0",
            "_model_name": "DescriptionStyleModel",
            "_view_count": null,
            "_view_module": "@jupyter-widgets/base",
            "_view_module_version": "1.2.0",
            "_view_name": "StyleView",
            "description_width": ""
          }
        },
        "3bcbeef4fdf54bd5a4ca5cd64fd888e8": {
          "model_module": "@jupyter-widgets/controls",
          "model_name": "HBoxModel",
          "model_module_version": "1.5.0",
          "state": {
            "_dom_classes": [],
            "_model_module": "@jupyter-widgets/controls",
            "_model_module_version": "1.5.0",
            "_model_name": "HBoxModel",
            "_view_count": null,
            "_view_module": "@jupyter-widgets/controls",
            "_view_module_version": "1.5.0",
            "_view_name": "HBoxView",
            "box_style": "",
            "children": [
              "IPY_MODEL_cafcfca2a3444021ba82d4bc0dc76056",
              "IPY_MODEL_bc11a2cf6a0642b4bd7fc29deb73403d",
              "IPY_MODEL_13b5314461ff4e7db2ece0b41c36e98e"
            ],
            "layout": "IPY_MODEL_6cdd512225d14b34b73c96eca3e88f1a"
          }
        },
        "cafcfca2a3444021ba82d4bc0dc76056": {
          "model_module": "@jupyter-widgets/controls",
          "model_name": "HTMLModel",
          "model_module_version": "1.5.0",
          "state": {
            "_dom_classes": [],
            "_model_module": "@jupyter-widgets/controls",
            "_model_module_version": "1.5.0",
            "_model_name": "HTMLModel",
            "_view_count": null,
            "_view_module": "@jupyter-widgets/controls",
            "_view_module_version": "1.5.0",
            "_view_name": "HTMLView",
            "description": "",
            "description_tooltip": null,
            "layout": "IPY_MODEL_40d8b718b5874a5197f0016239f0fa7a",
            "placeholder": "​",
            "style": "IPY_MODEL_f3ed0fecdb3f433387a01843d4dfbf25",
            "value": "Downloading (…)lve/main/config.json: 100%"
          }
        },
        "bc11a2cf6a0642b4bd7fc29deb73403d": {
          "model_module": "@jupyter-widgets/controls",
          "model_name": "FloatProgressModel",
          "model_module_version": "1.5.0",
          "state": {
            "_dom_classes": [],
            "_model_module": "@jupyter-widgets/controls",
            "_model_module_version": "1.5.0",
            "_model_name": "FloatProgressModel",
            "_view_count": null,
            "_view_module": "@jupyter-widgets/controls",
            "_view_module_version": "1.5.0",
            "_view_name": "ProgressView",
            "bar_style": "success",
            "description": "",
            "description_tooltip": null,
            "layout": "IPY_MODEL_ceef6bfc2eb04b60aa8df24c92ba51e3",
            "max": 1208,
            "min": 0,
            "orientation": "horizontal",
            "style": "IPY_MODEL_95364e7c3f8b40cba59f7949ef00674a",
            "value": 1208
          }
        },
        "13b5314461ff4e7db2ece0b41c36e98e": {
          "model_module": "@jupyter-widgets/controls",
          "model_name": "HTMLModel",
          "model_module_version": "1.5.0",
          "state": {
            "_dom_classes": [],
            "_model_module": "@jupyter-widgets/controls",
            "_model_module_version": "1.5.0",
            "_model_name": "HTMLModel",
            "_view_count": null,
            "_view_module": "@jupyter-widgets/controls",
            "_view_module_version": "1.5.0",
            "_view_name": "HTMLView",
            "description": "",
            "description_tooltip": null,
            "layout": "IPY_MODEL_3538b0f8e9b949d4949612fcbc1a63a5",
            "placeholder": "​",
            "style": "IPY_MODEL_3e4ed5ddf2d94a63980b68080e986027",
            "value": " 1.21k/1.21k [00:00&lt;00:00, 46.0kB/s]"
          }
        },
        "6cdd512225d14b34b73c96eca3e88f1a": {
          "model_module": "@jupyter-widgets/base",
          "model_name": "LayoutModel",
          "model_module_version": "1.2.0",
          "state": {
            "_model_module": "@jupyter-widgets/base",
            "_model_module_version": "1.2.0",
            "_model_name": "LayoutModel",
            "_view_count": null,
            "_view_module": "@jupyter-widgets/base",
            "_view_module_version": "1.2.0",
            "_view_name": "LayoutView",
            "align_content": null,
            "align_items": null,
            "align_self": null,
            "border": null,
            "bottom": null,
            "display": null,
            "flex": null,
            "flex_flow": null,
            "grid_area": null,
            "grid_auto_columns": null,
            "grid_auto_flow": null,
            "grid_auto_rows": null,
            "grid_column": null,
            "grid_gap": null,
            "grid_row": null,
            "grid_template_areas": null,
            "grid_template_columns": null,
            "grid_template_rows": null,
            "height": null,
            "justify_content": null,
            "justify_items": null,
            "left": null,
            "margin": null,
            "max_height": null,
            "max_width": null,
            "min_height": null,
            "min_width": null,
            "object_fit": null,
            "object_position": null,
            "order": null,
            "overflow": null,
            "overflow_x": null,
            "overflow_y": null,
            "padding": null,
            "right": null,
            "top": null,
            "visibility": null,
            "width": null
          }
        },
        "40d8b718b5874a5197f0016239f0fa7a": {
          "model_module": "@jupyter-widgets/base",
          "model_name": "LayoutModel",
          "model_module_version": "1.2.0",
          "state": {
            "_model_module": "@jupyter-widgets/base",
            "_model_module_version": "1.2.0",
            "_model_name": "LayoutModel",
            "_view_count": null,
            "_view_module": "@jupyter-widgets/base",
            "_view_module_version": "1.2.0",
            "_view_name": "LayoutView",
            "align_content": null,
            "align_items": null,
            "align_self": null,
            "border": null,
            "bottom": null,
            "display": null,
            "flex": null,
            "flex_flow": null,
            "grid_area": null,
            "grid_auto_columns": null,
            "grid_auto_flow": null,
            "grid_auto_rows": null,
            "grid_column": null,
            "grid_gap": null,
            "grid_row": null,
            "grid_template_areas": null,
            "grid_template_columns": null,
            "grid_template_rows": null,
            "height": null,
            "justify_content": null,
            "justify_items": null,
            "left": null,
            "margin": null,
            "max_height": null,
            "max_width": null,
            "min_height": null,
            "min_width": null,
            "object_fit": null,
            "object_position": null,
            "order": null,
            "overflow": null,
            "overflow_x": null,
            "overflow_y": null,
            "padding": null,
            "right": null,
            "top": null,
            "visibility": null,
            "width": null
          }
        },
        "f3ed0fecdb3f433387a01843d4dfbf25": {
          "model_module": "@jupyter-widgets/controls",
          "model_name": "DescriptionStyleModel",
          "model_module_version": "1.5.0",
          "state": {
            "_model_module": "@jupyter-widgets/controls",
            "_model_module_version": "1.5.0",
            "_model_name": "DescriptionStyleModel",
            "_view_count": null,
            "_view_module": "@jupyter-widgets/base",
            "_view_module_version": "1.2.0",
            "_view_name": "StyleView",
            "description_width": ""
          }
        },
        "ceef6bfc2eb04b60aa8df24c92ba51e3": {
          "model_module": "@jupyter-widgets/base",
          "model_name": "LayoutModel",
          "model_module_version": "1.2.0",
          "state": {
            "_model_module": "@jupyter-widgets/base",
            "_model_module_version": "1.2.0",
            "_model_name": "LayoutModel",
            "_view_count": null,
            "_view_module": "@jupyter-widgets/base",
            "_view_module_version": "1.2.0",
            "_view_name": "LayoutView",
            "align_content": null,
            "align_items": null,
            "align_self": null,
            "border": null,
            "bottom": null,
            "display": null,
            "flex": null,
            "flex_flow": null,
            "grid_area": null,
            "grid_auto_columns": null,
            "grid_auto_flow": null,
            "grid_auto_rows": null,
            "grid_column": null,
            "grid_gap": null,
            "grid_row": null,
            "grid_template_areas": null,
            "grid_template_columns": null,
            "grid_template_rows": null,
            "height": null,
            "justify_content": null,
            "justify_items": null,
            "left": null,
            "margin": null,
            "max_height": null,
            "max_width": null,
            "min_height": null,
            "min_width": null,
            "object_fit": null,
            "object_position": null,
            "order": null,
            "overflow": null,
            "overflow_x": null,
            "overflow_y": null,
            "padding": null,
            "right": null,
            "top": null,
            "visibility": null,
            "width": null
          }
        },
        "95364e7c3f8b40cba59f7949ef00674a": {
          "model_module": "@jupyter-widgets/controls",
          "model_name": "ProgressStyleModel",
          "model_module_version": "1.5.0",
          "state": {
            "_model_module": "@jupyter-widgets/controls",
            "_model_module_version": "1.5.0",
            "_model_name": "ProgressStyleModel",
            "_view_count": null,
            "_view_module": "@jupyter-widgets/base",
            "_view_module_version": "1.2.0",
            "_view_name": "StyleView",
            "bar_color": null,
            "description_width": ""
          }
        },
        "3538b0f8e9b949d4949612fcbc1a63a5": {
          "model_module": "@jupyter-widgets/base",
          "model_name": "LayoutModel",
          "model_module_version": "1.2.0",
          "state": {
            "_model_module": "@jupyter-widgets/base",
            "_model_module_version": "1.2.0",
            "_model_name": "LayoutModel",
            "_view_count": null,
            "_view_module": "@jupyter-widgets/base",
            "_view_module_version": "1.2.0",
            "_view_name": "LayoutView",
            "align_content": null,
            "align_items": null,
            "align_self": null,
            "border": null,
            "bottom": null,
            "display": null,
            "flex": null,
            "flex_flow": null,
            "grid_area": null,
            "grid_auto_columns": null,
            "grid_auto_flow": null,
            "grid_auto_rows": null,
            "grid_column": null,
            "grid_gap": null,
            "grid_row": null,
            "grid_template_areas": null,
            "grid_template_columns": null,
            "grid_template_rows": null,
            "height": null,
            "justify_content": null,
            "justify_items": null,
            "left": null,
            "margin": null,
            "max_height": null,
            "max_width": null,
            "min_height": null,
            "min_width": null,
            "object_fit": null,
            "object_position": null,
            "order": null,
            "overflow": null,
            "overflow_x": null,
            "overflow_y": null,
            "padding": null,
            "right": null,
            "top": null,
            "visibility": null,
            "width": null
          }
        },
        "3e4ed5ddf2d94a63980b68080e986027": {
          "model_module": "@jupyter-widgets/controls",
          "model_name": "DescriptionStyleModel",
          "model_module_version": "1.5.0",
          "state": {
            "_model_module": "@jupyter-widgets/controls",
            "_model_module_version": "1.5.0",
            "_model_name": "DescriptionStyleModel",
            "_view_count": null,
            "_view_module": "@jupyter-widgets/base",
            "_view_module_version": "1.2.0",
            "_view_name": "StyleView",
            "description_width": ""
          }
        },
        "a45d91a33453470fbda63e31fb4690e0": {
          "model_module": "@jupyter-widgets/controls",
          "model_name": "HBoxModel",
          "model_module_version": "1.5.0",
          "state": {
            "_dom_classes": [],
            "_model_module": "@jupyter-widgets/controls",
            "_model_module_version": "1.5.0",
            "_model_name": "HBoxModel",
            "_view_count": null,
            "_view_module": "@jupyter-widgets/controls",
            "_view_module_version": "1.5.0",
            "_view_name": "HBoxView",
            "box_style": "",
            "children": [
              "IPY_MODEL_1f878f84161640cb9d569b6e1abf9b9c",
              "IPY_MODEL_3f89a0f24db44c7c9e9db28f9e1356b0",
              "IPY_MODEL_ce84367ed3b44e15a0478c70251e7855"
            ],
            "layout": "IPY_MODEL_d1512d952ef14e62b7a108196602b373"
          }
        },
        "1f878f84161640cb9d569b6e1abf9b9c": {
          "model_module": "@jupyter-widgets/controls",
          "model_name": "HTMLModel",
          "model_module_version": "1.5.0",
          "state": {
            "_dom_classes": [],
            "_model_module": "@jupyter-widgets/controls",
            "_model_module_version": "1.5.0",
            "_model_name": "HTMLModel",
            "_view_count": null,
            "_view_module": "@jupyter-widgets/controls",
            "_view_module_version": "1.5.0",
            "_view_name": "HTMLView",
            "description": "",
            "description_tooltip": null,
            "layout": "IPY_MODEL_adc2f8e7a520432f9cb12c35773fd8a7",
            "placeholder": "​",
            "style": "IPY_MODEL_5e2f76fabc8247e6aa94e22c1d7b737f",
            "value": "Downloading model.safetensors: 100%"
          }
        },
        "3f89a0f24db44c7c9e9db28f9e1356b0": {
          "model_module": "@jupyter-widgets/controls",
          "model_name": "FloatProgressModel",
          "model_module_version": "1.5.0",
          "state": {
            "_dom_classes": [],
            "_model_module": "@jupyter-widgets/controls",
            "_model_module_version": "1.5.0",
            "_model_name": "FloatProgressModel",
            "_view_count": null,
            "_view_module": "@jupyter-widgets/controls",
            "_view_module_version": "1.5.0",
            "_view_name": "ProgressView",
            "bar_style": "success",
            "description": "",
            "description_tooltip": null,
            "layout": "IPY_MODEL_fa7e9459f5894fcb8c17420f55687ca0",
            "max": 891646390,
            "min": 0,
            "orientation": "horizontal",
            "style": "IPY_MODEL_81edb06a6d7a4b1382a00be0d8e21339",
            "value": 891646390
          }
        },
        "ce84367ed3b44e15a0478c70251e7855": {
          "model_module": "@jupyter-widgets/controls",
          "model_name": "HTMLModel",
          "model_module_version": "1.5.0",
          "state": {
            "_dom_classes": [],
            "_model_module": "@jupyter-widgets/controls",
            "_model_module_version": "1.5.0",
            "_model_name": "HTMLModel",
            "_view_count": null,
            "_view_module": "@jupyter-widgets/controls",
            "_view_module_version": "1.5.0",
            "_view_name": "HTMLView",
            "description": "",
            "description_tooltip": null,
            "layout": "IPY_MODEL_d157ef59d6cf4e1ca560874ff2011836",
            "placeholder": "​",
            "style": "IPY_MODEL_c3da587baadb4a959a01c4bc4dfbae79",
            "value": " 892M/892M [00:09&lt;00:00, 69.6MB/s]"
          }
        },
        "d1512d952ef14e62b7a108196602b373": {
          "model_module": "@jupyter-widgets/base",
          "model_name": "LayoutModel",
          "model_module_version": "1.2.0",
          "state": {
            "_model_module": "@jupyter-widgets/base",
            "_model_module_version": "1.2.0",
            "_model_name": "LayoutModel",
            "_view_count": null,
            "_view_module": "@jupyter-widgets/base",
            "_view_module_version": "1.2.0",
            "_view_name": "LayoutView",
            "align_content": null,
            "align_items": null,
            "align_self": null,
            "border": null,
            "bottom": null,
            "display": null,
            "flex": null,
            "flex_flow": null,
            "grid_area": null,
            "grid_auto_columns": null,
            "grid_auto_flow": null,
            "grid_auto_rows": null,
            "grid_column": null,
            "grid_gap": null,
            "grid_row": null,
            "grid_template_areas": null,
            "grid_template_columns": null,
            "grid_template_rows": null,
            "height": null,
            "justify_content": null,
            "justify_items": null,
            "left": null,
            "margin": null,
            "max_height": null,
            "max_width": null,
            "min_height": null,
            "min_width": null,
            "object_fit": null,
            "object_position": null,
            "order": null,
            "overflow": null,
            "overflow_x": null,
            "overflow_y": null,
            "padding": null,
            "right": null,
            "top": null,
            "visibility": null,
            "width": null
          }
        },
        "adc2f8e7a520432f9cb12c35773fd8a7": {
          "model_module": "@jupyter-widgets/base",
          "model_name": "LayoutModel",
          "model_module_version": "1.2.0",
          "state": {
            "_model_module": "@jupyter-widgets/base",
            "_model_module_version": "1.2.0",
            "_model_name": "LayoutModel",
            "_view_count": null,
            "_view_module": "@jupyter-widgets/base",
            "_view_module_version": "1.2.0",
            "_view_name": "LayoutView",
            "align_content": null,
            "align_items": null,
            "align_self": null,
            "border": null,
            "bottom": null,
            "display": null,
            "flex": null,
            "flex_flow": null,
            "grid_area": null,
            "grid_auto_columns": null,
            "grid_auto_flow": null,
            "grid_auto_rows": null,
            "grid_column": null,
            "grid_gap": null,
            "grid_row": null,
            "grid_template_areas": null,
            "grid_template_columns": null,
            "grid_template_rows": null,
            "height": null,
            "justify_content": null,
            "justify_items": null,
            "left": null,
            "margin": null,
            "max_height": null,
            "max_width": null,
            "min_height": null,
            "min_width": null,
            "object_fit": null,
            "object_position": null,
            "order": null,
            "overflow": null,
            "overflow_x": null,
            "overflow_y": null,
            "padding": null,
            "right": null,
            "top": null,
            "visibility": null,
            "width": null
          }
        },
        "5e2f76fabc8247e6aa94e22c1d7b737f": {
          "model_module": "@jupyter-widgets/controls",
          "model_name": "DescriptionStyleModel",
          "model_module_version": "1.5.0",
          "state": {
            "_model_module": "@jupyter-widgets/controls",
            "_model_module_version": "1.5.0",
            "_model_name": "DescriptionStyleModel",
            "_view_count": null,
            "_view_module": "@jupyter-widgets/base",
            "_view_module_version": "1.2.0",
            "_view_name": "StyleView",
            "description_width": ""
          }
        },
        "fa7e9459f5894fcb8c17420f55687ca0": {
          "model_module": "@jupyter-widgets/base",
          "model_name": "LayoutModel",
          "model_module_version": "1.2.0",
          "state": {
            "_model_module": "@jupyter-widgets/base",
            "_model_module_version": "1.2.0",
            "_model_name": "LayoutModel",
            "_view_count": null,
            "_view_module": "@jupyter-widgets/base",
            "_view_module_version": "1.2.0",
            "_view_name": "LayoutView",
            "align_content": null,
            "align_items": null,
            "align_self": null,
            "border": null,
            "bottom": null,
            "display": null,
            "flex": null,
            "flex_flow": null,
            "grid_area": null,
            "grid_auto_columns": null,
            "grid_auto_flow": null,
            "grid_auto_rows": null,
            "grid_column": null,
            "grid_gap": null,
            "grid_row": null,
            "grid_template_areas": null,
            "grid_template_columns": null,
            "grid_template_rows": null,
            "height": null,
            "justify_content": null,
            "justify_items": null,
            "left": null,
            "margin": null,
            "max_height": null,
            "max_width": null,
            "min_height": null,
            "min_width": null,
            "object_fit": null,
            "object_position": null,
            "order": null,
            "overflow": null,
            "overflow_x": null,
            "overflow_y": null,
            "padding": null,
            "right": null,
            "top": null,
            "visibility": null,
            "width": null
          }
        },
        "81edb06a6d7a4b1382a00be0d8e21339": {
          "model_module": "@jupyter-widgets/controls",
          "model_name": "ProgressStyleModel",
          "model_module_version": "1.5.0",
          "state": {
            "_model_module": "@jupyter-widgets/controls",
            "_model_module_version": "1.5.0",
            "_model_name": "ProgressStyleModel",
            "_view_count": null,
            "_view_module": "@jupyter-widgets/base",
            "_view_module_version": "1.2.0",
            "_view_name": "StyleView",
            "bar_color": null,
            "description_width": ""
          }
        },
        "d157ef59d6cf4e1ca560874ff2011836": {
          "model_module": "@jupyter-widgets/base",
          "model_name": "LayoutModel",
          "model_module_version": "1.2.0",
          "state": {
            "_model_module": "@jupyter-widgets/base",
            "_model_module_version": "1.2.0",
            "_model_name": "LayoutModel",
            "_view_count": null,
            "_view_module": "@jupyter-widgets/base",
            "_view_module_version": "1.2.0",
            "_view_name": "LayoutView",
            "align_content": null,
            "align_items": null,
            "align_self": null,
            "border": null,
            "bottom": null,
            "display": null,
            "flex": null,
            "flex_flow": null,
            "grid_area": null,
            "grid_auto_columns": null,
            "grid_auto_flow": null,
            "grid_auto_rows": null,
            "grid_column": null,
            "grid_gap": null,
            "grid_row": null,
            "grid_template_areas": null,
            "grid_template_columns": null,
            "grid_template_rows": null,
            "height": null,
            "justify_content": null,
            "justify_items": null,
            "left": null,
            "margin": null,
            "max_height": null,
            "max_width": null,
            "min_height": null,
            "min_width": null,
            "object_fit": null,
            "object_position": null,
            "order": null,
            "overflow": null,
            "overflow_x": null,
            "overflow_y": null,
            "padding": null,
            "right": null,
            "top": null,
            "visibility": null,
            "width": null
          }
        },
        "c3da587baadb4a959a01c4bc4dfbae79": {
          "model_module": "@jupyter-widgets/controls",
          "model_name": "DescriptionStyleModel",
          "model_module_version": "1.5.0",
          "state": {
            "_model_module": "@jupyter-widgets/controls",
            "_model_module_version": "1.5.0",
            "_model_name": "DescriptionStyleModel",
            "_view_count": null,
            "_view_module": "@jupyter-widgets/base",
            "_view_module_version": "1.2.0",
            "_view_name": "StyleView",
            "description_width": ""
          }
        },
        "bf5347569bae4c64bcaa5347d644cac4": {
          "model_module": "@jupyter-widgets/controls",
          "model_name": "HBoxModel",
          "model_module_version": "1.5.0",
          "state": {
            "_dom_classes": [],
            "_model_module": "@jupyter-widgets/controls",
            "_model_module_version": "1.5.0",
            "_model_name": "HBoxModel",
            "_view_count": null,
            "_view_module": "@jupyter-widgets/controls",
            "_view_module_version": "1.5.0",
            "_view_name": "HBoxView",
            "box_style": "",
            "children": [
              "IPY_MODEL_2272189d86614c63928e06d9d39b024b",
              "IPY_MODEL_458f5c4898c347d0b2d6a078ce0a6fb7",
              "IPY_MODEL_9900a7e7d3b8497c9a6d5a414137257b"
            ],
            "layout": "IPY_MODEL_d489e3abee4546ecbeec29a71d6fa402"
          }
        },
        "2272189d86614c63928e06d9d39b024b": {
          "model_module": "@jupyter-widgets/controls",
          "model_name": "HTMLModel",
          "model_module_version": "1.5.0",
          "state": {
            "_dom_classes": [],
            "_model_module": "@jupyter-widgets/controls",
            "_model_module_version": "1.5.0",
            "_model_name": "HTMLModel",
            "_view_count": null,
            "_view_module": "@jupyter-widgets/controls",
            "_view_module_version": "1.5.0",
            "_view_name": "HTMLView",
            "description": "",
            "description_tooltip": null,
            "layout": "IPY_MODEL_0135dfa4f11f42c3abddeed21e3c081f",
            "placeholder": "​",
            "style": "IPY_MODEL_4028576bad3f4342b303d8420c92c5c2",
            "value": "Downloading (…)neration_config.json: 100%"
          }
        },
        "458f5c4898c347d0b2d6a078ce0a6fb7": {
          "model_module": "@jupyter-widgets/controls",
          "model_name": "FloatProgressModel",
          "model_module_version": "1.5.0",
          "state": {
            "_dom_classes": [],
            "_model_module": "@jupyter-widgets/controls",
            "_model_module_version": "1.5.0",
            "_model_name": "FloatProgressModel",
            "_view_count": null,
            "_view_module": "@jupyter-widgets/controls",
            "_view_module_version": "1.5.0",
            "_view_name": "ProgressView",
            "bar_style": "success",
            "description": "",
            "description_tooltip": null,
            "layout": "IPY_MODEL_9e932bbc63b443908527fe744a5f297e",
            "max": 147,
            "min": 0,
            "orientation": "horizontal",
            "style": "IPY_MODEL_be291841297f4232b065afc0ef308976",
            "value": 147
          }
        },
        "9900a7e7d3b8497c9a6d5a414137257b": {
          "model_module": "@jupyter-widgets/controls",
          "model_name": "HTMLModel",
          "model_module_version": "1.5.0",
          "state": {
            "_dom_classes": [],
            "_model_module": "@jupyter-widgets/controls",
            "_model_module_version": "1.5.0",
            "_model_name": "HTMLModel",
            "_view_count": null,
            "_view_module": "@jupyter-widgets/controls",
            "_view_module_version": "1.5.0",
            "_view_name": "HTMLView",
            "description": "",
            "description_tooltip": null,
            "layout": "IPY_MODEL_0962bf7987654359a25cac43661ac06c",
            "placeholder": "​",
            "style": "IPY_MODEL_cc1da34a3bc54800b0ad3307c7657c65",
            "value": " 147/147 [00:00&lt;00:00, 3.71kB/s]"
          }
        },
        "d489e3abee4546ecbeec29a71d6fa402": {
          "model_module": "@jupyter-widgets/base",
          "model_name": "LayoutModel",
          "model_module_version": "1.2.0",
          "state": {
            "_model_module": "@jupyter-widgets/base",
            "_model_module_version": "1.2.0",
            "_model_name": "LayoutModel",
            "_view_count": null,
            "_view_module": "@jupyter-widgets/base",
            "_view_module_version": "1.2.0",
            "_view_name": "LayoutView",
            "align_content": null,
            "align_items": null,
            "align_self": null,
            "border": null,
            "bottom": null,
            "display": null,
            "flex": null,
            "flex_flow": null,
            "grid_area": null,
            "grid_auto_columns": null,
            "grid_auto_flow": null,
            "grid_auto_rows": null,
            "grid_column": null,
            "grid_gap": null,
            "grid_row": null,
            "grid_template_areas": null,
            "grid_template_columns": null,
            "grid_template_rows": null,
            "height": null,
            "justify_content": null,
            "justify_items": null,
            "left": null,
            "margin": null,
            "max_height": null,
            "max_width": null,
            "min_height": null,
            "min_width": null,
            "object_fit": null,
            "object_position": null,
            "order": null,
            "overflow": null,
            "overflow_x": null,
            "overflow_y": null,
            "padding": null,
            "right": null,
            "top": null,
            "visibility": null,
            "width": null
          }
        },
        "0135dfa4f11f42c3abddeed21e3c081f": {
          "model_module": "@jupyter-widgets/base",
          "model_name": "LayoutModel",
          "model_module_version": "1.2.0",
          "state": {
            "_model_module": "@jupyter-widgets/base",
            "_model_module_version": "1.2.0",
            "_model_name": "LayoutModel",
            "_view_count": null,
            "_view_module": "@jupyter-widgets/base",
            "_view_module_version": "1.2.0",
            "_view_name": "LayoutView",
            "align_content": null,
            "align_items": null,
            "align_self": null,
            "border": null,
            "bottom": null,
            "display": null,
            "flex": null,
            "flex_flow": null,
            "grid_area": null,
            "grid_auto_columns": null,
            "grid_auto_flow": null,
            "grid_auto_rows": null,
            "grid_column": null,
            "grid_gap": null,
            "grid_row": null,
            "grid_template_areas": null,
            "grid_template_columns": null,
            "grid_template_rows": null,
            "height": null,
            "justify_content": null,
            "justify_items": null,
            "left": null,
            "margin": null,
            "max_height": null,
            "max_width": null,
            "min_height": null,
            "min_width": null,
            "object_fit": null,
            "object_position": null,
            "order": null,
            "overflow": null,
            "overflow_x": null,
            "overflow_y": null,
            "padding": null,
            "right": null,
            "top": null,
            "visibility": null,
            "width": null
          }
        },
        "4028576bad3f4342b303d8420c92c5c2": {
          "model_module": "@jupyter-widgets/controls",
          "model_name": "DescriptionStyleModel",
          "model_module_version": "1.5.0",
          "state": {
            "_model_module": "@jupyter-widgets/controls",
            "_model_module_version": "1.5.0",
            "_model_name": "DescriptionStyleModel",
            "_view_count": null,
            "_view_module": "@jupyter-widgets/base",
            "_view_module_version": "1.2.0",
            "_view_name": "StyleView",
            "description_width": ""
          }
        },
        "9e932bbc63b443908527fe744a5f297e": {
          "model_module": "@jupyter-widgets/base",
          "model_name": "LayoutModel",
          "model_module_version": "1.2.0",
          "state": {
            "_model_module": "@jupyter-widgets/base",
            "_model_module_version": "1.2.0",
            "_model_name": "LayoutModel",
            "_view_count": null,
            "_view_module": "@jupyter-widgets/base",
            "_view_module_version": "1.2.0",
            "_view_name": "LayoutView",
            "align_content": null,
            "align_items": null,
            "align_self": null,
            "border": null,
            "bottom": null,
            "display": null,
            "flex": null,
            "flex_flow": null,
            "grid_area": null,
            "grid_auto_columns": null,
            "grid_auto_flow": null,
            "grid_auto_rows": null,
            "grid_column": null,
            "grid_gap": null,
            "grid_row": null,
            "grid_template_areas": null,
            "grid_template_columns": null,
            "grid_template_rows": null,
            "height": null,
            "justify_content": null,
            "justify_items": null,
            "left": null,
            "margin": null,
            "max_height": null,
            "max_width": null,
            "min_height": null,
            "min_width": null,
            "object_fit": null,
            "object_position": null,
            "order": null,
            "overflow": null,
            "overflow_x": null,
            "overflow_y": null,
            "padding": null,
            "right": null,
            "top": null,
            "visibility": null,
            "width": null
          }
        },
        "be291841297f4232b065afc0ef308976": {
          "model_module": "@jupyter-widgets/controls",
          "model_name": "ProgressStyleModel",
          "model_module_version": "1.5.0",
          "state": {
            "_model_module": "@jupyter-widgets/controls",
            "_model_module_version": "1.5.0",
            "_model_name": "ProgressStyleModel",
            "_view_count": null,
            "_view_module": "@jupyter-widgets/base",
            "_view_module_version": "1.2.0",
            "_view_name": "StyleView",
            "bar_color": null,
            "description_width": ""
          }
        },
        "0962bf7987654359a25cac43661ac06c": {
          "model_module": "@jupyter-widgets/base",
          "model_name": "LayoutModel",
          "model_module_version": "1.2.0",
          "state": {
            "_model_module": "@jupyter-widgets/base",
            "_model_module_version": "1.2.0",
            "_model_name": "LayoutModel",
            "_view_count": null,
            "_view_module": "@jupyter-widgets/base",
            "_view_module_version": "1.2.0",
            "_view_name": "LayoutView",
            "align_content": null,
            "align_items": null,
            "align_self": null,
            "border": null,
            "bottom": null,
            "display": null,
            "flex": null,
            "flex_flow": null,
            "grid_area": null,
            "grid_auto_columns": null,
            "grid_auto_flow": null,
            "grid_auto_rows": null,
            "grid_column": null,
            "grid_gap": null,
            "grid_row": null,
            "grid_template_areas": null,
            "grid_template_columns": null,
            "grid_template_rows": null,
            "height": null,
            "justify_content": null,
            "justify_items": null,
            "left": null,
            "margin": null,
            "max_height": null,
            "max_width": null,
            "min_height": null,
            "min_width": null,
            "object_fit": null,
            "object_position": null,
            "order": null,
            "overflow": null,
            "overflow_x": null,
            "overflow_y": null,
            "padding": null,
            "right": null,
            "top": null,
            "visibility": null,
            "width": null
          }
        },
        "cc1da34a3bc54800b0ad3307c7657c65": {
          "model_module": "@jupyter-widgets/controls",
          "model_name": "DescriptionStyleModel",
          "model_module_version": "1.5.0",
          "state": {
            "_model_module": "@jupyter-widgets/controls",
            "_model_module_version": "1.5.0",
            "_model_name": "DescriptionStyleModel",
            "_view_count": null,
            "_view_module": "@jupyter-widgets/base",
            "_view_module_version": "1.2.0",
            "_view_name": "StyleView",
            "description_width": ""
          }
        },
        "9b84e320f9374a098b64af258b2b1cbe": {
          "model_module": "@jupyter-widgets/controls",
          "model_name": "HBoxModel",
          "model_module_version": "1.5.0",
          "state": {
            "_dom_classes": [],
            "_model_module": "@jupyter-widgets/controls",
            "_model_module_version": "1.5.0",
            "_model_name": "HBoxModel",
            "_view_count": null,
            "_view_module": "@jupyter-widgets/controls",
            "_view_module_version": "1.5.0",
            "_view_name": "HBoxView",
            "box_style": "",
            "children": [
              "IPY_MODEL_0015e767a1424db08f0f7b6ad1c51e41",
              "IPY_MODEL_d95b5f42db224c79a07117978ee1c744",
              "IPY_MODEL_2efc5a3e9a184f468e9bd2ae106c113a"
            ],
            "layout": "IPY_MODEL_c363886e6f3c48eda9a7880c043dca25"
          }
        },
        "0015e767a1424db08f0f7b6ad1c51e41": {
          "model_module": "@jupyter-widgets/controls",
          "model_name": "HTMLModel",
          "model_module_version": "1.5.0",
          "state": {
            "_dom_classes": [],
            "_model_module": "@jupyter-widgets/controls",
            "_model_module_version": "1.5.0",
            "_model_name": "HTMLModel",
            "_view_count": null,
            "_view_module": "@jupyter-widgets/controls",
            "_view_module_version": "1.5.0",
            "_view_name": "HTMLView",
            "description": "",
            "description_tooltip": null,
            "layout": "IPY_MODEL_b962b30f687848c28fad008641d60a34",
            "placeholder": "​",
            "style": "IPY_MODEL_9ff1f30a9b52406393ee23086a62c56e",
            "value": "Downloading (…)lve/main/config.json: 100%"
          }
        },
        "d95b5f42db224c79a07117978ee1c744": {
          "model_module": "@jupyter-widgets/controls",
          "model_name": "FloatProgressModel",
          "model_module_version": "1.5.0",
          "state": {
            "_dom_classes": [],
            "_model_module": "@jupyter-widgets/controls",
            "_model_module_version": "1.5.0",
            "_model_name": "FloatProgressModel",
            "_view_count": null,
            "_view_module": "@jupyter-widgets/controls",
            "_view_module_version": "1.5.0",
            "_view_name": "ProgressView",
            "bar_style": "success",
            "description": "",
            "description_tooltip": null,
            "layout": "IPY_MODEL_2f4b7c0e2547436da2fb7453a4aea91e",
            "max": 502,
            "min": 0,
            "orientation": "horizontal",
            "style": "IPY_MODEL_cbc531fe1bd24d62843eaf2f97d63139",
            "value": 502
          }
        },
        "2efc5a3e9a184f468e9bd2ae106c113a": {
          "model_module": "@jupyter-widgets/controls",
          "model_name": "HTMLModel",
          "model_module_version": "1.5.0",
          "state": {
            "_dom_classes": [],
            "_model_module": "@jupyter-widgets/controls",
            "_model_module_version": "1.5.0",
            "_model_name": "HTMLModel",
            "_view_count": null,
            "_view_module": "@jupyter-widgets/controls",
            "_view_module_version": "1.5.0",
            "_view_name": "HTMLView",
            "description": "",
            "description_tooltip": null,
            "layout": "IPY_MODEL_2b381ee4e10b46be9d6914aa9b75d7ce",
            "placeholder": "​",
            "style": "IPY_MODEL_03753f8f1ff94bf6932ca39d8c17d4d0",
            "value": " 502/502 [00:00&lt;00:00, 13.1kB/s]"
          }
        },
        "c363886e6f3c48eda9a7880c043dca25": {
          "model_module": "@jupyter-widgets/base",
          "model_name": "LayoutModel",
          "model_module_version": "1.2.0",
          "state": {
            "_model_module": "@jupyter-widgets/base",
            "_model_module_version": "1.2.0",
            "_model_name": "LayoutModel",
            "_view_count": null,
            "_view_module": "@jupyter-widgets/base",
            "_view_module_version": "1.2.0",
            "_view_name": "LayoutView",
            "align_content": null,
            "align_items": null,
            "align_self": null,
            "border": null,
            "bottom": null,
            "display": null,
            "flex": null,
            "flex_flow": null,
            "grid_area": null,
            "grid_auto_columns": null,
            "grid_auto_flow": null,
            "grid_auto_rows": null,
            "grid_column": null,
            "grid_gap": null,
            "grid_row": null,
            "grid_template_areas": null,
            "grid_template_columns": null,
            "grid_template_rows": null,
            "height": null,
            "justify_content": null,
            "justify_items": null,
            "left": null,
            "margin": null,
            "max_height": null,
            "max_width": null,
            "min_height": null,
            "min_width": null,
            "object_fit": null,
            "object_position": null,
            "order": null,
            "overflow": null,
            "overflow_x": null,
            "overflow_y": null,
            "padding": null,
            "right": null,
            "top": null,
            "visibility": null,
            "width": null
          }
        },
        "b962b30f687848c28fad008641d60a34": {
          "model_module": "@jupyter-widgets/base",
          "model_name": "LayoutModel",
          "model_module_version": "1.2.0",
          "state": {
            "_model_module": "@jupyter-widgets/base",
            "_model_module_version": "1.2.0",
            "_model_name": "LayoutModel",
            "_view_count": null,
            "_view_module": "@jupyter-widgets/base",
            "_view_module_version": "1.2.0",
            "_view_name": "LayoutView",
            "align_content": null,
            "align_items": null,
            "align_self": null,
            "border": null,
            "bottom": null,
            "display": null,
            "flex": null,
            "flex_flow": null,
            "grid_area": null,
            "grid_auto_columns": null,
            "grid_auto_flow": null,
            "grid_auto_rows": null,
            "grid_column": null,
            "grid_gap": null,
            "grid_row": null,
            "grid_template_areas": null,
            "grid_template_columns": null,
            "grid_template_rows": null,
            "height": null,
            "justify_content": null,
            "justify_items": null,
            "left": null,
            "margin": null,
            "max_height": null,
            "max_width": null,
            "min_height": null,
            "min_width": null,
            "object_fit": null,
            "object_position": null,
            "order": null,
            "overflow": null,
            "overflow_x": null,
            "overflow_y": null,
            "padding": null,
            "right": null,
            "top": null,
            "visibility": null,
            "width": null
          }
        },
        "9ff1f30a9b52406393ee23086a62c56e": {
          "model_module": "@jupyter-widgets/controls",
          "model_name": "DescriptionStyleModel",
          "model_module_version": "1.5.0",
          "state": {
            "_model_module": "@jupyter-widgets/controls",
            "_model_module_version": "1.5.0",
            "_model_name": "DescriptionStyleModel",
            "_view_count": null,
            "_view_module": "@jupyter-widgets/base",
            "_view_module_version": "1.2.0",
            "_view_name": "StyleView",
            "description_width": ""
          }
        },
        "2f4b7c0e2547436da2fb7453a4aea91e": {
          "model_module": "@jupyter-widgets/base",
          "model_name": "LayoutModel",
          "model_module_version": "1.2.0",
          "state": {
            "_model_module": "@jupyter-widgets/base",
            "_model_module_version": "1.2.0",
            "_model_name": "LayoutModel",
            "_view_count": null,
            "_view_module": "@jupyter-widgets/base",
            "_view_module_version": "1.2.0",
            "_view_name": "LayoutView",
            "align_content": null,
            "align_items": null,
            "align_self": null,
            "border": null,
            "bottom": null,
            "display": null,
            "flex": null,
            "flex_flow": null,
            "grid_area": null,
            "grid_auto_columns": null,
            "grid_auto_flow": null,
            "grid_auto_rows": null,
            "grid_column": null,
            "grid_gap": null,
            "grid_row": null,
            "grid_template_areas": null,
            "grid_template_columns": null,
            "grid_template_rows": null,
            "height": null,
            "justify_content": null,
            "justify_items": null,
            "left": null,
            "margin": null,
            "max_height": null,
            "max_width": null,
            "min_height": null,
            "min_width": null,
            "object_fit": null,
            "object_position": null,
            "order": null,
            "overflow": null,
            "overflow_x": null,
            "overflow_y": null,
            "padding": null,
            "right": null,
            "top": null,
            "visibility": null,
            "width": null
          }
        },
        "cbc531fe1bd24d62843eaf2f97d63139": {
          "model_module": "@jupyter-widgets/controls",
          "model_name": "ProgressStyleModel",
          "model_module_version": "1.5.0",
          "state": {
            "_model_module": "@jupyter-widgets/controls",
            "_model_module_version": "1.5.0",
            "_model_name": "ProgressStyleModel",
            "_view_count": null,
            "_view_module": "@jupyter-widgets/base",
            "_view_module_version": "1.2.0",
            "_view_name": "StyleView",
            "bar_color": null,
            "description_width": ""
          }
        },
        "2b381ee4e10b46be9d6914aa9b75d7ce": {
          "model_module": "@jupyter-widgets/base",
          "model_name": "LayoutModel",
          "model_module_version": "1.2.0",
          "state": {
            "_model_module": "@jupyter-widgets/base",
            "_model_module_version": "1.2.0",
            "_model_name": "LayoutModel",
            "_view_count": null,
            "_view_module": "@jupyter-widgets/base",
            "_view_module_version": "1.2.0",
            "_view_name": "LayoutView",
            "align_content": null,
            "align_items": null,
            "align_self": null,
            "border": null,
            "bottom": null,
            "display": null,
            "flex": null,
            "flex_flow": null,
            "grid_area": null,
            "grid_auto_columns": null,
            "grid_auto_flow": null,
            "grid_auto_rows": null,
            "grid_column": null,
            "grid_gap": null,
            "grid_row": null,
            "grid_template_areas": null,
            "grid_template_columns": null,
            "grid_template_rows": null,
            "height": null,
            "justify_content": null,
            "justify_items": null,
            "left": null,
            "margin": null,
            "max_height": null,
            "max_width": null,
            "min_height": null,
            "min_width": null,
            "object_fit": null,
            "object_position": null,
            "order": null,
            "overflow": null,
            "overflow_x": null,
            "overflow_y": null,
            "padding": null,
            "right": null,
            "top": null,
            "visibility": null,
            "width": null
          }
        },
        "03753f8f1ff94bf6932ca39d8c17d4d0": {
          "model_module": "@jupyter-widgets/controls",
          "model_name": "DescriptionStyleModel",
          "model_module_version": "1.5.0",
          "state": {
            "_model_module": "@jupyter-widgets/controls",
            "_model_module_version": "1.5.0",
            "_model_name": "DescriptionStyleModel",
            "_view_count": null,
            "_view_module": "@jupyter-widgets/base",
            "_view_module_version": "1.2.0",
            "_view_name": "StyleView",
            "description_width": ""
          }
        },
        "ed7872afd68841078dfd8399de18f48f": {
          "model_module": "@jupyter-widgets/controls",
          "model_name": "HBoxModel",
          "model_module_version": "1.5.0",
          "state": {
            "_dom_classes": [],
            "_model_module": "@jupyter-widgets/controls",
            "_model_module_version": "1.5.0",
            "_model_name": "HBoxModel",
            "_view_count": null,
            "_view_module": "@jupyter-widgets/controls",
            "_view_module_version": "1.5.0",
            "_view_name": "HBoxView",
            "box_style": "",
            "children": [
              "IPY_MODEL_abb3619b139741058c7fd533bdb79148",
              "IPY_MODEL_7a8d2cd7382d40b18ed6bbab36079ab5",
              "IPY_MODEL_5eca3a3646a546aa86090c5f70dd31dc"
            ],
            "layout": "IPY_MODEL_e5bdbf74c4164790934199a7be71614c"
          }
        },
        "abb3619b139741058c7fd533bdb79148": {
          "model_module": "@jupyter-widgets/controls",
          "model_name": "HTMLModel",
          "model_module_version": "1.5.0",
          "state": {
            "_dom_classes": [],
            "_model_module": "@jupyter-widgets/controls",
            "_model_module_version": "1.5.0",
            "_model_name": "HTMLModel",
            "_view_count": null,
            "_view_module": "@jupyter-widgets/controls",
            "_view_module_version": "1.5.0",
            "_view_name": "HTMLView",
            "description": "",
            "description_tooltip": null,
            "layout": "IPY_MODEL_e56b627bfdcd4a43852b990c8704a0a3",
            "placeholder": "​",
            "style": "IPY_MODEL_34f44c1a64d246b1b72eedad3b7302cf",
            "value": "Downloading pytorch_model.bin: 100%"
          }
        },
        "7a8d2cd7382d40b18ed6bbab36079ab5": {
          "model_module": "@jupyter-widgets/controls",
          "model_name": "FloatProgressModel",
          "model_module_version": "1.5.0",
          "state": {
            "_dom_classes": [],
            "_model_module": "@jupyter-widgets/controls",
            "_model_module_version": "1.5.0",
            "_model_name": "FloatProgressModel",
            "_view_count": null,
            "_view_module": "@jupyter-widgets/controls",
            "_view_module_version": "1.5.0",
            "_view_name": "ProgressView",
            "bar_style": "success",
            "description": "",
            "description_tooltip": null,
            "layout": "IPY_MODEL_85d136dbd0d946468d676642b5b0fc19",
            "max": 345636463,
            "min": 0,
            "orientation": "horizontal",
            "style": "IPY_MODEL_1e0ded742f484f3d8497935eeef6f112",
            "value": 345636463
          }
        },
        "5eca3a3646a546aa86090c5f70dd31dc": {
          "model_module": "@jupyter-widgets/controls",
          "model_name": "HTMLModel",
          "model_module_version": "1.5.0",
          "state": {
            "_dom_classes": [],
            "_model_module": "@jupyter-widgets/controls",
            "_model_module_version": "1.5.0",
            "_model_name": "HTMLModel",
            "_view_count": null,
            "_view_module": "@jupyter-widgets/controls",
            "_view_module_version": "1.5.0",
            "_view_name": "HTMLView",
            "description": "",
            "description_tooltip": null,
            "layout": "IPY_MODEL_09ddf8d5127446289b38fc88981ffcc2",
            "placeholder": "​",
            "style": "IPY_MODEL_74fe36488e834e73aa53f02c844ffc74",
            "value": " 346M/346M [00:03&lt;00:00, 114MB/s]"
          }
        },
        "e5bdbf74c4164790934199a7be71614c": {
          "model_module": "@jupyter-widgets/base",
          "model_name": "LayoutModel",
          "model_module_version": "1.2.0",
          "state": {
            "_model_module": "@jupyter-widgets/base",
            "_model_module_version": "1.2.0",
            "_model_name": "LayoutModel",
            "_view_count": null,
            "_view_module": "@jupyter-widgets/base",
            "_view_module_version": "1.2.0",
            "_view_name": "LayoutView",
            "align_content": null,
            "align_items": null,
            "align_self": null,
            "border": null,
            "bottom": null,
            "display": null,
            "flex": null,
            "flex_flow": null,
            "grid_area": null,
            "grid_auto_columns": null,
            "grid_auto_flow": null,
            "grid_auto_rows": null,
            "grid_column": null,
            "grid_gap": null,
            "grid_row": null,
            "grid_template_areas": null,
            "grid_template_columns": null,
            "grid_template_rows": null,
            "height": null,
            "justify_content": null,
            "justify_items": null,
            "left": null,
            "margin": null,
            "max_height": null,
            "max_width": null,
            "min_height": null,
            "min_width": null,
            "object_fit": null,
            "object_position": null,
            "order": null,
            "overflow": null,
            "overflow_x": null,
            "overflow_y": null,
            "padding": null,
            "right": null,
            "top": null,
            "visibility": null,
            "width": null
          }
        },
        "e56b627bfdcd4a43852b990c8704a0a3": {
          "model_module": "@jupyter-widgets/base",
          "model_name": "LayoutModel",
          "model_module_version": "1.2.0",
          "state": {
            "_model_module": "@jupyter-widgets/base",
            "_model_module_version": "1.2.0",
            "_model_name": "LayoutModel",
            "_view_count": null,
            "_view_module": "@jupyter-widgets/base",
            "_view_module_version": "1.2.0",
            "_view_name": "LayoutView",
            "align_content": null,
            "align_items": null,
            "align_self": null,
            "border": null,
            "bottom": null,
            "display": null,
            "flex": null,
            "flex_flow": null,
            "grid_area": null,
            "grid_auto_columns": null,
            "grid_auto_flow": null,
            "grid_auto_rows": null,
            "grid_column": null,
            "grid_gap": null,
            "grid_row": null,
            "grid_template_areas": null,
            "grid_template_columns": null,
            "grid_template_rows": null,
            "height": null,
            "justify_content": null,
            "justify_items": null,
            "left": null,
            "margin": null,
            "max_height": null,
            "max_width": null,
            "min_height": null,
            "min_width": null,
            "object_fit": null,
            "object_position": null,
            "order": null,
            "overflow": null,
            "overflow_x": null,
            "overflow_y": null,
            "padding": null,
            "right": null,
            "top": null,
            "visibility": null,
            "width": null
          }
        },
        "34f44c1a64d246b1b72eedad3b7302cf": {
          "model_module": "@jupyter-widgets/controls",
          "model_name": "DescriptionStyleModel",
          "model_module_version": "1.5.0",
          "state": {
            "_model_module": "@jupyter-widgets/controls",
            "_model_module_version": "1.5.0",
            "_model_name": "DescriptionStyleModel",
            "_view_count": null,
            "_view_module": "@jupyter-widgets/base",
            "_view_module_version": "1.2.0",
            "_view_name": "StyleView",
            "description_width": ""
          }
        },
        "85d136dbd0d946468d676642b5b0fc19": {
          "model_module": "@jupyter-widgets/base",
          "model_name": "LayoutModel",
          "model_module_version": "1.2.0",
          "state": {
            "_model_module": "@jupyter-widgets/base",
            "_model_module_version": "1.2.0",
            "_model_name": "LayoutModel",
            "_view_count": null,
            "_view_module": "@jupyter-widgets/base",
            "_view_module_version": "1.2.0",
            "_view_name": "LayoutView",
            "align_content": null,
            "align_items": null,
            "align_self": null,
            "border": null,
            "bottom": null,
            "display": null,
            "flex": null,
            "flex_flow": null,
            "grid_area": null,
            "grid_auto_columns": null,
            "grid_auto_flow": null,
            "grid_auto_rows": null,
            "grid_column": null,
            "grid_gap": null,
            "grid_row": null,
            "grid_template_areas": null,
            "grid_template_columns": null,
            "grid_template_rows": null,
            "height": null,
            "justify_content": null,
            "justify_items": null,
            "left": null,
            "margin": null,
            "max_height": null,
            "max_width": null,
            "min_height": null,
            "min_width": null,
            "object_fit": null,
            "object_position": null,
            "order": null,
            "overflow": null,
            "overflow_x": null,
            "overflow_y": null,
            "padding": null,
            "right": null,
            "top": null,
            "visibility": null,
            "width": null
          }
        },
        "1e0ded742f484f3d8497935eeef6f112": {
          "model_module": "@jupyter-widgets/controls",
          "model_name": "ProgressStyleModel",
          "model_module_version": "1.5.0",
          "state": {
            "_model_module": "@jupyter-widgets/controls",
            "_model_module_version": "1.5.0",
            "_model_name": "ProgressStyleModel",
            "_view_count": null,
            "_view_module": "@jupyter-widgets/base",
            "_view_module_version": "1.2.0",
            "_view_name": "StyleView",
            "bar_color": null,
            "description_width": ""
          }
        },
        "09ddf8d5127446289b38fc88981ffcc2": {
          "model_module": "@jupyter-widgets/base",
          "model_name": "LayoutModel",
          "model_module_version": "1.2.0",
          "state": {
            "_model_module": "@jupyter-widgets/base",
            "_model_module_version": "1.2.0",
            "_model_name": "LayoutModel",
            "_view_count": null,
            "_view_module": "@jupyter-widgets/base",
            "_view_module_version": "1.2.0",
            "_view_name": "LayoutView",
            "align_content": null,
            "align_items": null,
            "align_self": null,
            "border": null,
            "bottom": null,
            "display": null,
            "flex": null,
            "flex_flow": null,
            "grid_area": null,
            "grid_auto_columns": null,
            "grid_auto_flow": null,
            "grid_auto_rows": null,
            "grid_column": null,
            "grid_gap": null,
            "grid_row": null,
            "grid_template_areas": null,
            "grid_template_columns": null,
            "grid_template_rows": null,
            "height": null,
            "justify_content": null,
            "justify_items": null,
            "left": null,
            "margin": null,
            "max_height": null,
            "max_width": null,
            "min_height": null,
            "min_width": null,
            "object_fit": null,
            "object_position": null,
            "order": null,
            "overflow": null,
            "overflow_x": null,
            "overflow_y": null,
            "padding": null,
            "right": null,
            "top": null,
            "visibility": null,
            "width": null
          }
        },
        "74fe36488e834e73aa53f02c844ffc74": {
          "model_module": "@jupyter-widgets/controls",
          "model_name": "DescriptionStyleModel",
          "model_module_version": "1.5.0",
          "state": {
            "_model_module": "@jupyter-widgets/controls",
            "_model_module_version": "1.5.0",
            "_model_name": "DescriptionStyleModel",
            "_view_count": null,
            "_view_module": "@jupyter-widgets/base",
            "_view_module_version": "1.2.0",
            "_view_name": "StyleView",
            "description_width": ""
          }
        }
      }
    }
  },
  "nbformat_minor": 0,
  "nbformat": 4,
  "cells": [
    {
      "cell_type": "markdown",
      "metadata": {
        "id": "view-in-github",
        "colab_type": "text"
      },
      "source": [
        "<a href=\"https://colab.research.google.com/github/emzSid/Chat-Voice-Bot-for-Admission-and-Career-Counseling/blob/main/LaTr_TextVQA_Training_with_WandB_%F0%9F%92%A5.ipynb\" target=\"_parent\"><img src=\"https://colab.research.google.com/assets/colab-badge.svg\" alt=\"Open In Colab\"/></a>"
      ]
    },
    {
      "cell_type": "code",
      "source": [
        "!wget https://dl.fbaipublicfiles.com/textvqa/images/train_val_images.zip\n",
        "!wget https://dl.fbaipublicfiles.com/textvqa/data/TextVQA_0.5.1_train.json\n",
        "!wget https://dl.fbaipublicfiles.com/textvqa/data/TextVQA_Rosetta_OCR_v0.2_train.json\n",
        "\n",
        "!wget https://dl.fbaipublicfiles.com/textvqa/data/TextVQA_0.5.1_val.json\n",
        "!wget https://dl.fbaipublicfiles.com/textvqa/data/TextVQA_Rosetta_OCR_v0.2_val.json"
      ],
      "metadata": {
        "_kg_hide-output": true,
        "trusted": true,
        "colab": {
          "base_uri": "https://localhost:8080/"
        },
        "id": "Haaj0VN4IHu_",
        "outputId": "fb0721cf-61be-4633-8cbe-37d7667ba75f"
      },
      "execution_count": 1,
      "outputs": [
        {
          "output_type": "stream",
          "name": "stdout",
          "text": [
            "--2023-10-13 13:36:49--  https://dl.fbaipublicfiles.com/textvqa/images/train_val_images.zip\n",
            "Resolving dl.fbaipublicfiles.com (dl.fbaipublicfiles.com)... 3.162.163.51, 3.162.163.19, 3.162.163.11, ...\n",
            "Connecting to dl.fbaipublicfiles.com (dl.fbaipublicfiles.com)|3.162.163.51|:443... connected.\n",
            "HTTP request sent, awaiting response... 200 OK\n",
            "Length: 7072297970 (6.6G) [application/zip]\n",
            "Saving to: ‘train_val_images.zip.2’\n",
            "\n",
            "train_val_images.zi 100%[===================>]   6.59G   140MB/s    in 64s     \n",
            "\n",
            "2023-10-13 13:37:53 (105 MB/s) - ‘train_val_images.zip.2’ saved [7072297970/7072297970]\n",
            "\n",
            "--2023-10-13 13:37:53--  https://dl.fbaipublicfiles.com/textvqa/data/TextVQA_0.5.1_train.json\n",
            "Resolving dl.fbaipublicfiles.com (dl.fbaipublicfiles.com)... 3.162.163.19, 3.162.163.51, 3.162.163.34, ...\n",
            "Connecting to dl.fbaipublicfiles.com (dl.fbaipublicfiles.com)|3.162.163.19|:443... connected.\n",
            "HTTP request sent, awaiting response... 200 OK\n",
            "Length: 21634937 (21M) [text/plain]\n",
            "Saving to: ‘TextVQA_0.5.1_train.json.2’\n",
            "\n",
            "TextVQA_0.5.1_train 100%[===================>]  20.63M   113MB/s    in 0.2s    \n",
            "\n",
            "2023-10-13 13:37:54 (113 MB/s) - ‘TextVQA_0.5.1_train.json.2’ saved [21634937/21634937]\n",
            "\n",
            "--2023-10-13 13:37:54--  https://dl.fbaipublicfiles.com/textvqa/data/TextVQA_Rosetta_OCR_v0.2_train.json\n",
            "Resolving dl.fbaipublicfiles.com (dl.fbaipublicfiles.com)... 3.162.163.19, 3.162.163.51, 3.162.163.34, ...\n",
            "Connecting to dl.fbaipublicfiles.com (dl.fbaipublicfiles.com)|3.162.163.19|:443... connected.\n",
            "HTTP request sent, awaiting response... 200 OK\n",
            "Length: 65815367 (63M) [text/plain]\n",
            "Saving to: ‘TextVQA_Rosetta_OCR_v0.2_train.json.2’\n",
            "\n",
            "TextVQA_Rosetta_OCR 100%[===================>]  62.77M   136MB/s    in 0.5s    \n",
            "\n",
            "2023-10-13 13:37:54 (136 MB/s) - ‘TextVQA_Rosetta_OCR_v0.2_train.json.2’ saved [65815367/65815367]\n",
            "\n",
            "--2023-10-13 13:37:54--  https://dl.fbaipublicfiles.com/textvqa/data/TextVQA_0.5.1_val.json\n",
            "Resolving dl.fbaipublicfiles.com (dl.fbaipublicfiles.com)... 3.162.163.19, 3.162.163.51, 3.162.163.34, ...\n",
            "Connecting to dl.fbaipublicfiles.com (dl.fbaipublicfiles.com)|3.162.163.19|:443... connected.\n",
            "HTTP request sent, awaiting response... 200 OK\n",
            "Length: 3116162 (3.0M) [text/plain]\n",
            "Saving to: ‘TextVQA_0.5.1_val.json.2’\n",
            "\n",
            "TextVQA_0.5.1_val.j 100%[===================>]   2.97M  --.-KB/s    in 0.1s    \n",
            "\n",
            "2023-10-13 13:37:54 (30.6 MB/s) - ‘TextVQA_0.5.1_val.json.2’ saved [3116162/3116162]\n",
            "\n",
            "--2023-10-13 13:37:55--  https://dl.fbaipublicfiles.com/textvqa/data/TextVQA_Rosetta_OCR_v0.2_val.json\n",
            "Resolving dl.fbaipublicfiles.com (dl.fbaipublicfiles.com)... 3.162.163.19, 3.162.163.51, 3.162.163.34, ...\n",
            "Connecting to dl.fbaipublicfiles.com (dl.fbaipublicfiles.com)|3.162.163.19|:443... connected.\n",
            "HTTP request sent, awaiting response... 200 OK\n",
            "Length: 9830753 (9.4M) [text/plain]\n",
            "Saving to: ‘TextVQA_Rosetta_OCR_v0.2_val.json.2’\n",
            "\n",
            "TextVQA_Rosetta_OCR 100%[===================>]   9.38M  --.-KB/s    in 0.1s    \n",
            "\n",
            "2023-10-13 13:37:55 (68.0 MB/s) - ‘TextVQA_Rosetta_OCR_v0.2_val.json.2’ saved [9830753/9830753]\n",
            "\n"
          ]
        }
      ]
    },
    {
      "cell_type": "code",
      "source": [
        "!unzip './train_val_images.zip'"
      ],
      "metadata": {
        "_kg_hide-output": true,
        "trusted": true,
        "colab": {
          "base_uri": "https://localhost:8080/"
        },
        "id": "A-HAvcokIHvD",
        "outputId": "27adbe22-b640-43c9-a7e2-a8b17aeadb07"
      },
      "execution_count": 2,
      "outputs": [
        {
          "output_type": "stream",
          "name": "stdout",
          "text": [
            "Archive:  ./train_val_images.zip\n",
            "replace train_images/03b2dbb7dff0e32d.jpg? [y]es, [n]o, [A]ll, [N]one, [r]ename: n\n",
            "replace train_images/0054c91397f2fe05.jpg? [y]es, [n]o, [A]ll, [N]one, [r]ename: n\n",
            "replace train_images/005635e119b9f32f.jpg? [y]es, [n]o, [A]ll, [N]one, [r]ename: n\n",
            "replace train_images/00685bc495504d61.jpg? [y]es, [n]o, [A]ll, [N]one, [r]ename: "
          ]
        }
      ]
    },
    {
      "cell_type": "markdown",
      "source": [
        "## 1. Introduction:\n",
        "\n",
        "This notebook is a tutorial to the multi-modal architecture LaTr (mainly for the purpose of Scene Text VQA).\n",
        "We would take in, the train-images of the TextVQA Dataset, and then would train the model (taking as near arguments for training as possible)\n",
        "We would also be logging the metrics with the help of Weights and Biases\n",
        "\n",
        "## A small Introduction about the Model:\n",
        "\n",
        "![image.png](attachment:3fa8e13b-320b-429f-9bd1-1eedee642806.png)\n",
        "\n",
        "LaTr: Layout-aware transformer for scene-text VQA is a novel multimodal architecture for Scene Text Visual Question Answering (STVQA).\n",
        "\n",
        "LaTr improves robustness towards OCR errors, a common reason for failure cases in STVQA. In addition, by leveraging a vision transformer, LaTr eliminate the need for an external object detector. LaTr outperforms state-of-the-art STVQA methods on multiple datasets. In particular, +7.6% on TextVQA, +10.8% on ST-VQA and +4.0% on OCR-VQA (all absolute accuracy numbers).\n",
        "\n",
        "For more understanding of the model and its code implementation, one can visit [here](https://github.com/uakarsh/latr). So, let us go on to see what this model has to offer\n",
        "\n",
        "<!-- The report for this entire run is attached [here](https://wandb.ai/iakarshu/RVL%20CDIP%20with%20DocFormer%20New%20Version/reports/Performance-of-DocFormer-with-RVL-CDIP-Test-Dataset--VmlldzoyMTI3NTM4)\n",
        "\n",
        "<img src = \"https://drive.google.com/u/1/uc?id=1IOyYXbU8bi5FDq59Z4RI1Qkoc54CzZto&export=download\" > -->\n",
        "\n",
        "<!--\n",
        "### An Interactive Demo for the same can be found on 🤗 space [here](https://huggingface.co/spaces/iakarshu/docformer_for_document_classification) -->\n",
        "\n",
        "### Downloading and Unzipping the Data 📘:"
      ],
      "metadata": {
        "id": "QVfwOFTyIHu3"
      }
    },
    {
      "cell_type": "markdown",
      "source": [
        "## 2. Downloading and Installing the Libraries ⚙️:"
      ],
      "metadata": {
        "id": "zdXXtBCAIHvG"
      }
    },
    {
      "cell_type": "code",
      "source": [
        "# ! pip install cloud-tpu-client==0.10 https://storage.googleapis.com/tpu-pytorch/wheels/torch_xla-1.8-cp37-cp37m-linux_x86_64.whl"
      ],
      "metadata": {
        "trusted": true,
        "id": "3q87j3r0IHvI"
      },
      "execution_count": 3,
      "outputs": []
    },
    {
      "cell_type": "code",
      "source": [
        "## Downloading the requirements\n",
        "!pip install -q sentencepiece==0.1.91\n",
        "!pip install -q 'Pillow==7.1.2'\n",
        "!pip install -q pytorch-lightning\n",
        "!pip install -q wandb\n",
        "!pip install -U pytorch_warmup"
      ],
      "metadata": {
        "id": "r86CIoH3yN8Q",
        "outputId": "8327105e-9a99-45f5-fc36-5f09daf3e97c",
        "_kg_hide-output": true,
        "execution": {
          "iopub.status.busy": "2022-07-03T07:07:08.504025Z",
          "iopub.execute_input": "2022-07-03T07:07:08.504417Z",
          "iopub.status.idle": "2022-07-03T07:07:43.210169Z",
          "shell.execute_reply.started": "2022-07-03T07:07:08.504364Z",
          "shell.execute_reply": "2022-07-03T07:07:43.209072Z"
        },
        "trusted": true,
        "colab": {
          "base_uri": "https://localhost:8080/"
        }
      },
      "execution_count": 4,
      "outputs": [
        {
          "output_type": "stream",
          "name": "stdout",
          "text": [
            "  \u001b[1;31merror\u001b[0m: \u001b[1msubprocess-exited-with-error\u001b[0m\n",
            "  \n",
            "  \u001b[31m×\u001b[0m \u001b[32mpython setup.py egg_info\u001b[0m did not run successfully.\n",
            "  \u001b[31m│\u001b[0m exit code: \u001b[1;36m1\u001b[0m\n",
            "  \u001b[31m╰─>\u001b[0m See above for output.\n",
            "  \n",
            "  \u001b[1;35mnote\u001b[0m: This error originates from a subprocess, and is likely not a problem with pip.\n",
            "  Preparing metadata (setup.py) ... \u001b[?25l\u001b[?25herror\n",
            "\u001b[1;31merror\u001b[0m: \u001b[1mmetadata-generation-failed\u001b[0m\n",
            "\n",
            "\u001b[31m×\u001b[0m Encountered error while generating package metadata.\n",
            "\u001b[31m╰─>\u001b[0m See above for output.\n",
            "\n",
            "\u001b[1;35mnote\u001b[0m: This is an issue with the package mentioned above, not pip.\n",
            "\u001b[1;36mhint\u001b[0m: See above for details.\n",
            "\u001b[31mERROR: pip's dependency resolver does not currently take into account all the packages that are installed. This behaviour is the source of the following dependency conflicts.\n",
            "imageio 2.31.5 requires pillow>=8.3.2, but you have pillow 7.1.2 which is incompatible.\n",
            "pytesseract 0.3.10 requires Pillow>=8.0.0, but you have pillow 7.1.2 which is incompatible.\u001b[0m\u001b[31m\n",
            "\u001b[0mRequirement already satisfied: pytorch_warmup in /usr/local/lib/python3.10/dist-packages (0.1.1)\n",
            "Requirement already satisfied: torch>=1.1 in /usr/local/lib/python3.10/dist-packages (from pytorch_warmup) (2.0.1+cu118)\n",
            "Requirement already satisfied: filelock in /usr/local/lib/python3.10/dist-packages (from torch>=1.1->pytorch_warmup) (3.12.4)\n",
            "Requirement already satisfied: typing-extensions in /usr/local/lib/python3.10/dist-packages (from torch>=1.1->pytorch_warmup) (4.5.0)\n",
            "Requirement already satisfied: sympy in /usr/local/lib/python3.10/dist-packages (from torch>=1.1->pytorch_warmup) (1.12)\n",
            "Requirement already satisfied: networkx in /usr/local/lib/python3.10/dist-packages (from torch>=1.1->pytorch_warmup) (3.1)\n",
            "Requirement already satisfied: jinja2 in /usr/local/lib/python3.10/dist-packages (from torch>=1.1->pytorch_warmup) (3.1.2)\n",
            "Requirement already satisfied: triton==2.0.0 in /usr/local/lib/python3.10/dist-packages (from torch>=1.1->pytorch_warmup) (2.0.0)\n",
            "Requirement already satisfied: cmake in /usr/local/lib/python3.10/dist-packages (from triton==2.0.0->torch>=1.1->pytorch_warmup) (3.27.6)\n",
            "Requirement already satisfied: lit in /usr/local/lib/python3.10/dist-packages (from triton==2.0.0->torch>=1.1->pytorch_warmup) (17.0.2)\n",
            "Requirement already satisfied: MarkupSafe>=2.0 in /usr/local/lib/python3.10/dist-packages (from jinja2->torch>=1.1->pytorch_warmup) (2.1.3)\n",
            "Requirement already satisfied: mpmath>=0.19 in /usr/local/lib/python3.10/dist-packages (from sympy->torch>=1.1->pytorch_warmup) (1.3.0)\n"
          ]
        }
      ]
    },
    {
      "cell_type": "code",
      "source": [
        "!git clone https://github.com/uakarsh/latr.git\n",
        "import sys\n",
        "sys.path.append('./latr/src/latr/')"
      ],
      "metadata": {
        "id": "nyGaSE8uyaCq",
        "outputId": "c87865af-47f4-4fb9-a2d8-9d2b253dc79d",
        "execution": {
          "iopub.status.busy": "2022-07-03T07:07:43.223171Z",
          "iopub.execute_input": "2022-07-03T07:07:43.22341Z",
          "iopub.status.idle": "2022-07-03T07:07:43.99082Z",
          "shell.execute_reply.started": "2022-07-03T07:07:43.223383Z",
          "shell.execute_reply": "2022-07-03T07:07:43.989874Z"
        },
        "trusted": true,
        "colab": {
          "base_uri": "https://localhost:8080/"
        }
      },
      "execution_count": 5,
      "outputs": [
        {
          "output_type": "stream",
          "name": "stdout",
          "text": [
            "fatal: destination path 'latr' already exists and is not an empty directory.\n"
          ]
        }
      ]
    },
    {
      "cell_type": "code",
      "source": [
        "from google.colab import files\n",
        "#files.upload()  # Upload your Kaggle API credentials JSON file\n"
      ],
      "metadata": {
        "id": "dRKbTqhYNW3V"
      },
      "execution_count": 6,
      "outputs": []
    },
    {
      "cell_type": "code",
      "source": [
        "!pip install kaggle\n"
      ],
      "metadata": {
        "colab": {
          "base_uri": "https://localhost:8080/"
        },
        "id": "mOS3kZqxMFGA",
        "outputId": "5d4031e5-d3f5-4028-f3bd-081c3ba754a2"
      },
      "execution_count": 7,
      "outputs": [
        {
          "output_type": "stream",
          "name": "stdout",
          "text": [
            "Requirement already satisfied: kaggle in /usr/local/lib/python3.10/dist-packages (1.5.16)\n",
            "Requirement already satisfied: six>=1.10 in /usr/local/lib/python3.10/dist-packages (from kaggle) (1.16.0)\n",
            "Requirement already satisfied: certifi in /usr/local/lib/python3.10/dist-packages (from kaggle) (2023.7.22)\n",
            "Requirement already satisfied: python-dateutil in /usr/local/lib/python3.10/dist-packages (from kaggle) (2.8.2)\n",
            "Requirement already satisfied: requests in /usr/local/lib/python3.10/dist-packages (from kaggle) (2.31.0)\n",
            "Requirement already satisfied: tqdm in /usr/local/lib/python3.10/dist-packages (from kaggle) (4.66.1)\n",
            "Requirement already satisfied: python-slugify in /usr/local/lib/python3.10/dist-packages (from kaggle) (8.0.1)\n",
            "Requirement already satisfied: urllib3 in /usr/local/lib/python3.10/dist-packages (from kaggle) (2.0.6)\n",
            "Requirement already satisfied: bleach in /usr/local/lib/python3.10/dist-packages (from kaggle) (6.1.0)\n",
            "Requirement already satisfied: webencodings in /usr/local/lib/python3.10/dist-packages (from bleach->kaggle) (0.5.1)\n",
            "Requirement already satisfied: text-unidecode>=1.3 in /usr/local/lib/python3.10/dist-packages (from python-slugify->kaggle) (1.3)\n",
            "Requirement already satisfied: charset-normalizer<4,>=2 in /usr/local/lib/python3.10/dist-packages (from requests->kaggle) (3.3.0)\n",
            "Requirement already satisfied: idna<4,>=2.5 in /usr/local/lib/python3.10/dist-packages (from requests->kaggle) (3.4)\n"
          ]
        }
      ]
    },
    {
      "cell_type": "code",
      "source": [
        "## Logging into wandb\n",
        "\n",
        "import os\n",
        "import wandb\n",
        "#from kaggle_secrets import UserSecretsClient\n",
        "#user_secrets = UserSecretsClient()\n",
        "#secret_value_0 = user_secrets.get_secret(\"wandb_api\")\n",
        "#wandb.login(key=secret_value_0)"
      ],
      "metadata": {
        "execution": {
          "iopub.status.busy": "2022-07-03T07:05:32.819314Z",
          "iopub.execute_input": "2022-07-03T07:05:32.819586Z",
          "iopub.status.idle": "2022-07-03T07:05:34.501013Z",
          "shell.execute_reply.started": "2022-07-03T07:05:32.819556Z",
          "shell.execute_reply": "2022-07-03T07:05:34.500302Z"
        },
        "trusted": true,
        "id": "SimQBjUPIHvP"
      },
      "execution_count": 8,
      "outputs": []
    },
    {
      "cell_type": "markdown",
      "source": [
        "## 3. Some important Library imports 🛳️"
      ],
      "metadata": {
        "id": "6Nx0IfbAIHvS"
      }
    },
    {
      "cell_type": "code",
      "source": [
        "!pip install pytesseract\n",
        "!pip install transformers\n",
        "\n"
      ],
      "metadata": {
        "colab": {
          "base_uri": "https://localhost:8080/",
          "height": 583
        },
        "id": "DRsLZIeBN5xk",
        "outputId": "caa6ac2c-390f-4394-f8af-5d6c3d038d4f"
      },
      "execution_count": 9,
      "outputs": [
        {
          "output_type": "stream",
          "name": "stdout",
          "text": [
            "Requirement already satisfied: pytesseract in /usr/local/lib/python3.10/dist-packages (0.3.10)\n",
            "Requirement already satisfied: packaging>=21.3 in /usr/local/lib/python3.10/dist-packages (from pytesseract) (23.2)\n",
            "Collecting Pillow>=8.0.0 (from pytesseract)\n",
            "  Using cached Pillow-10.0.1-cp310-cp310-manylinux_2_28_x86_64.whl (3.6 MB)\n",
            "Installing collected packages: Pillow\n",
            "  Attempting uninstall: Pillow\n",
            "    Found existing installation: Pillow 7.1.2\n",
            "    Uninstalling Pillow-7.1.2:\n",
            "      Successfully uninstalled Pillow-7.1.2\n",
            "Successfully installed Pillow-10.0.1\n"
          ]
        },
        {
          "output_type": "display_data",
          "data": {
            "application/vnd.colab-display-data+json": {
              "pip_warning": {
                "packages": [
                  "PIL"
                ]
              }
            }
          },
          "metadata": {}
        },
        {
          "output_type": "stream",
          "name": "stdout",
          "text": [
            "Requirement already satisfied: transformers in /usr/local/lib/python3.10/dist-packages (4.34.0)\n",
            "Requirement already satisfied: filelock in /usr/local/lib/python3.10/dist-packages (from transformers) (3.12.4)\n",
            "Requirement already satisfied: huggingface-hub<1.0,>=0.16.4 in /usr/local/lib/python3.10/dist-packages (from transformers) (0.17.3)\n",
            "Requirement already satisfied: numpy>=1.17 in /usr/local/lib/python3.10/dist-packages (from transformers) (1.23.5)\n",
            "Requirement already satisfied: packaging>=20.0 in /usr/local/lib/python3.10/dist-packages (from transformers) (23.2)\n",
            "Requirement already satisfied: pyyaml>=5.1 in /usr/local/lib/python3.10/dist-packages (from transformers) (6.0.1)\n",
            "Requirement already satisfied: regex!=2019.12.17 in /usr/local/lib/python3.10/dist-packages (from transformers) (2023.6.3)\n",
            "Requirement already satisfied: requests in /usr/local/lib/python3.10/dist-packages (from transformers) (2.31.0)\n",
            "Requirement already satisfied: tokenizers<0.15,>=0.14 in /usr/local/lib/python3.10/dist-packages (from transformers) (0.14.1)\n",
            "Requirement already satisfied: safetensors>=0.3.1 in /usr/local/lib/python3.10/dist-packages (from transformers) (0.4.0)\n",
            "Requirement already satisfied: tqdm>=4.27 in /usr/local/lib/python3.10/dist-packages (from transformers) (4.66.1)\n",
            "Requirement already satisfied: fsspec in /usr/local/lib/python3.10/dist-packages (from huggingface-hub<1.0,>=0.16.4->transformers) (2023.6.0)\n",
            "Requirement already satisfied: typing-extensions>=3.7.4.3 in /usr/local/lib/python3.10/dist-packages (from huggingface-hub<1.0,>=0.16.4->transformers) (4.5.0)\n",
            "Requirement already satisfied: charset-normalizer<4,>=2 in /usr/local/lib/python3.10/dist-packages (from requests->transformers) (3.3.0)\n",
            "Requirement already satisfied: idna<4,>=2.5 in /usr/local/lib/python3.10/dist-packages (from requests->transformers) (3.4)\n",
            "Requirement already satisfied: urllib3<3,>=1.21.1 in /usr/local/lib/python3.10/dist-packages (from requests->transformers) (2.0.6)\n",
            "Requirement already satisfied: certifi>=2017.4.17 in /usr/local/lib/python3.10/dist-packages (from requests->transformers) (2023.7.22)\n"
          ]
        }
      ]
    },
    {
      "cell_type": "code",
      "source": [
        "## Default Library import\n",
        "\n",
        "import os\n",
        "import json\n",
        "import numpy as np\n",
        "from tqdm.auto import tqdm\n",
        "import pandas as pd\n",
        "import json\n",
        "import transformers\n",
        "\n",
        "## For the purpose of displaying the progress of map function\n",
        "tqdm.pandas()\n",
        "\n",
        "## Visualization libraries\n",
        "import pytesseract\n",
        "from PIL import Image, ImageDraw\n",
        "\n",
        "## Specific libraries of LaTr\n",
        "import torch.nn as nn\n",
        "from dataset import load_json_file, get_specific_file, resize_align_bbox, get_tokens_with_boxes, create_features\n",
        "from modeling import LaTr_for_pretraining, LaTr_for_finetuning\n",
        "from utils import convert_ans_to_token, convert_ques_to_token, rotate, convert_token_to_ques, convert_token_to_answer\n",
        "\n",
        "## Setting up the device for GPU usage\n",
        "from torch import cuda\n",
        "device = 'cuda' if cuda.is_available() else 'cpu'\n",
        "\n",
        "## Warm-up\n",
        "import pytorch_warmup as warmup\n",
        "\n",
        "import pytorch_lightning as pl"
      ],
      "metadata": {
        "id": "-_gXYvr0y9TV",
        "execution": {
          "iopub.status.busy": "2022-07-03T07:05:35.448962Z",
          "iopub.execute_input": "2022-07-03T07:05:35.449789Z",
          "iopub.status.idle": "2022-07-03T07:05:36.912396Z",
          "shell.execute_reply.started": "2022-07-03T07:05:35.449634Z",
          "shell.execute_reply": "2022-07-03T07:05:36.911325Z"
        },
        "trusted": true
      },
      "execution_count": 10,
      "outputs": []
    },
    {
      "cell_type": "code",
      "source": [
        "## Setting the hyperparameters as well as primary configurations\n",
        "\n",
        "PAD_TOKEN_BOX = [0, 0, 0, 0]\n",
        "max_seq_len = 512\n",
        "batch_size = 2\n",
        "target_size = (500,384) ## Note that, ViT would make it 224x224 so :(\n",
        "t5_model = \"t5-base\""
      ],
      "metadata": {
        "id": "DKz4ygsuNv8B",
        "trusted": true
      },
      "execution_count": 11,
      "outputs": []
    },
    {
      "cell_type": "code",
      "source": [
        "## Appending the ocr and json path\n",
        "\n",
        "base_path = './'\n",
        "train_ocr_json_path = os.path.join(base_path, 'TextVQA_Rosetta_OCR_v0.2_train.json')\n",
        "train_json_path = os.path.join(base_path, 'TextVQA_0.5.1_train.json')\n",
        "\n",
        "val_ocr_json_path = os.path.join(base_path, 'TextVQA_Rosetta_OCR_v0.2_val.json')\n",
        "val_json_path = os.path.join(base_path, 'TextVQA_0.5.1_val.json')"
      ],
      "metadata": {
        "id": "8ClorTCszREw",
        "trusted": true
      },
      "execution_count": 12,
      "outputs": []
    },
    {
      "cell_type": "code",
      "source": [
        "## Loading the files\n",
        "\n",
        "train_ocr_json = json.load(open(train_ocr_json_path))['data']\n",
        "train_json = json.load(open(train_json_path))['data']\n",
        "\n",
        "val_ocr_json = json.load(open(val_ocr_json_path))['data']\n",
        "val_json = json.load(open(val_json_path))['data']"
      ],
      "metadata": {
        "id": "TjXZNCoP0I0x",
        "trusted": true
      },
      "execution_count": 13,
      "outputs": []
    },
    {
      "cell_type": "code",
      "source": [
        "## Useful for the key-value extraction\n",
        "\n",
        "train_json_df = pd.DataFrame(train_json)\n",
        "train_ocr_json_df = pd.DataFrame(train_ocr_json)\n",
        "\n",
        "val_json_df = pd.DataFrame(val_json)\n",
        "val_ocr_json_df = pd.DataFrame(val_ocr_json)"
      ],
      "metadata": {
        "id": "hjD8348YTJSd",
        "trusted": true
      },
      "execution_count": 14,
      "outputs": []
    },
    {
      "cell_type": "code",
      "source": [
        "## Converting list to string\n",
        "\n",
        "train_json_df['answers'] = train_json_df['answers'].apply(lambda x: \" \".join(list(map(str, x))))\n",
        "val_json_df['answers']   = val_json_df['answers'].apply(lambda x: \" \".join(list(map(str, x))))"
      ],
      "metadata": {
        "id": "7Du-EoByODjD",
        "trusted": true
      },
      "execution_count": 15,
      "outputs": []
    },
    {
      "cell_type": "code",
      "source": [
        "## Dropping of the images which doesn't exist, might take some time\n",
        "\n",
        "base_img_path = os.path.join('./', 'train_images')\n",
        "train_json_df['path_exists'] = train_json_df['image_id'].progress_apply(lambda x: os.path.exists(os.path.join(base_img_path, x)+'.jpg'))\n",
        "train_json_df = train_json_df[train_json_df['path_exists']==True]\n",
        "\n",
        "val_json_df['path_exists'] = val_json_df['image_id'].progress_apply(lambda x: os.path.exists(os.path.join(base_img_path, x)+'.jpg'))\n",
        "val_json_df = val_json_df[val_json_df['path_exists']==True]"
      ],
      "metadata": {
        "id": "k-nEMDBNAVuy",
        "outputId": "0e9f9af7-6fe6-4978-edea-e0126458a9e9",
        "trusted": true,
        "colab": {
          "base_uri": "https://localhost:8080/",
          "height": 81,
          "referenced_widgets": [
            "6959cf045016494aaae493eadc6c5400",
            "9b602b315655442fba78933b2e5a6583",
            "1c8e3fa9bddb4a39b1775a7e0c4db169",
            "a0cf3700bcbe4b0aac1e642b9d7ade60",
            "ae07a77f5fc74183b6c315045de3d063",
            "57aba258eef841de85b74a13fb8cb6a5",
            "b779f393964744b6b7d7f4d991c90017",
            "b043b93cf5084a3fad06887ef8beda94",
            "85a8664a9839489e80f7e16f3d2b933c",
            "0881012d873a4c42b331508a6860cd91",
            "b17eaf2de0514ff5a473f6f4fbb4fc9b",
            "80c141627be54206901d8fe38df5d957",
            "dab20541b0e84c3fa958002a13d30f86",
            "6a2aceada37c48198313e953f0a50466",
            "865df3025f0648bdaa5915ce52679ef0",
            "a3e99003abe643b0b3d9e811aed08ad1",
            "ece07955f40047e3a7e1abd8fa32856d",
            "3a2b40268ae0433780c06c65a1a3e821",
            "df6c0b3f3c9047a693e89922e9b73a5a",
            "c2afd74e46d04097a1d1a04f36f00145",
            "e52e3cc423da4a30b73593857bf9ea37",
            "4e5883a2a8c64ba48922d5156ad55542"
          ]
        }
      },
      "execution_count": 16,
      "outputs": [
        {
          "output_type": "display_data",
          "data": {
            "text/plain": [
              "  0%|          | 0/34602 [00:00<?, ?it/s]"
            ],
            "application/vnd.jupyter.widget-view+json": {
              "version_major": 2,
              "version_minor": 0,
              "model_id": "6959cf045016494aaae493eadc6c5400"
            }
          },
          "metadata": {}
        },
        {
          "output_type": "display_data",
          "data": {
            "text/plain": [
              "  0%|          | 0/5000 [00:00<?, ?it/s]"
            ],
            "application/vnd.jupyter.widget-view+json": {
              "version_major": 2,
              "version_minor": 0,
              "model_id": "80c141627be54206901d8fe38df5d957"
            }
          },
          "metadata": {}
        }
      ]
    },
    {
      "cell_type": "code",
      "source": [
        "## Dropping the unused columns\n",
        "\n",
        "train_json_df.drop(columns = ['flickr_original_url', 'flickr_300k_url','image_classes', 'question_tokens', 'path_exists'\n",
        "                              ], axis = 1, inplace = True)\n",
        "val_json_df.drop(columns = ['flickr_original_url', 'flickr_300k_url','image_classes', 'question_tokens', 'path_exists'\n",
        "                              ], axis = 1, inplace = True)"
      ],
      "metadata": {
        "id": "lipkoibdUeFT",
        "trusted": true
      },
      "execution_count": 17,
      "outputs": []
    },
    {
      "cell_type": "code",
      "source": [
        "## Deleting the json\n",
        "\n",
        "del train_json\n",
        "del train_ocr_json\n",
        "del val_json\n",
        "del val_ocr_json"
      ],
      "metadata": {
        "id": "Y_ABFoJsTpvd",
        "trusted": true
      },
      "execution_count": 18,
      "outputs": []
    },
    {
      "cell_type": "code",
      "source": [
        "## Grouping for the purpose of feature extraction\n",
        "grouped_df = train_json_df.groupby('image_id')\n",
        "\n",
        "## Getting all the unique keys of the group by object\n",
        "keys = list(grouped_df.groups.keys())"
      ],
      "metadata": {
        "id": "zeloNT7dT51I",
        "trusted": true
      },
      "execution_count": 19,
      "outputs": []
    },
    {
      "cell_type": "code",
      "source": [
        "!pip install sentencepiece"
      ],
      "metadata": {
        "colab": {
          "base_uri": "https://localhost:8080/"
        },
        "id": "nvJs8-k1PzMk",
        "outputId": "2f271d3b-1df5-4baa-d02b-765fa028c41d"
      },
      "execution_count": 20,
      "outputs": [
        {
          "output_type": "stream",
          "name": "stdout",
          "text": [
            "Requirement already satisfied: sentencepiece in /usr/local/lib/python3.10/dist-packages (0.1.99)\n"
          ]
        }
      ]
    },
    {
      "cell_type": "code",
      "source": [
        "## Tokenizer import\n",
        "import sentencepiece\n",
        "\n",
        "from transformers import T5Tokenizer, T5ForConditionalGeneration\n",
        "tokenizer = T5Tokenizer.from_pretrained(t5_model)"
      ],
      "metadata": {
        "id": "_0YMTxHjfw1R",
        "outputId": "cdc60e96-1835-4660-dbfa-940043bc2158",
        "trusted": true,
        "colab": {
          "base_uri": "https://localhost:8080/",
          "height": 255,
          "referenced_widgets": [
            "591fd66a78924e85bd622484c4a62018",
            "77b6a8422b064e5aa5e91a787a6cc0f9",
            "db31110770764cae90060ee4373b4c4c",
            "b39dc8dd75b94088a5b590b4b6bf7134",
            "5420858c82db4d3e9d4d61027093b6bf",
            "9b9b41b86af947298ae70b8858925487",
            "ac5263c824a847339f61b7f98ee14879",
            "5fbebd0709b54381a038097fa1bb2713",
            "87705c1708b2456cb23c3d88a36cbe40",
            "a5c05f90a6334a03b0e0d621a42b5513",
            "b2c65771976a4c97b9e24b0a9bf5d34e",
            "b615782b6d1f4d1a9a2dc049b1e63660",
            "337a9c3da3ac4380a07c521585d1f275",
            "058a4e144c3d4a078033299ada844dec",
            "6b989939c45843e8a7f38a49eb4d0b51",
            "6f2d395432234ed38a3e3e706cd0e879",
            "bea4a1f8f96d4726bd6138c6d0a00218",
            "bf66e422385a4c089faf1b3e8de29b03",
            "293f12bab99e452689dae8b23b989a6a",
            "239c3630e6a44ab29626da9ef31e425e",
            "728e030a2f7c4581811867ffceaba107",
            "72d3462fe5e54bc7ae0ff921996a3c34",
            "3bcbeef4fdf54bd5a4ca5cd64fd888e8",
            "cafcfca2a3444021ba82d4bc0dc76056",
            "bc11a2cf6a0642b4bd7fc29deb73403d",
            "13b5314461ff4e7db2ece0b41c36e98e",
            "6cdd512225d14b34b73c96eca3e88f1a",
            "40d8b718b5874a5197f0016239f0fa7a",
            "f3ed0fecdb3f433387a01843d4dfbf25",
            "ceef6bfc2eb04b60aa8df24c92ba51e3",
            "95364e7c3f8b40cba59f7949ef00674a",
            "3538b0f8e9b949d4949612fcbc1a63a5",
            "3e4ed5ddf2d94a63980b68080e986027"
          ]
        }
      },
      "execution_count": 21,
      "outputs": [
        {
          "output_type": "display_data",
          "data": {
            "text/plain": [
              "Downloading (…)ve/main/spiece.model:   0%|          | 0.00/792k [00:00<?, ?B/s]"
            ],
            "application/vnd.jupyter.widget-view+json": {
              "version_major": 2,
              "version_minor": 0,
              "model_id": "591fd66a78924e85bd622484c4a62018"
            }
          },
          "metadata": {}
        },
        {
          "output_type": "display_data",
          "data": {
            "text/plain": [
              "Downloading (…)/main/tokenizer.json:   0%|          | 0.00/1.39M [00:00<?, ?B/s]"
            ],
            "application/vnd.jupyter.widget-view+json": {
              "version_major": 2,
              "version_minor": 0,
              "model_id": "b615782b6d1f4d1a9a2dc049b1e63660"
            }
          },
          "metadata": {}
        },
        {
          "output_type": "display_data",
          "data": {
            "text/plain": [
              "Downloading (…)lve/main/config.json:   0%|          | 0.00/1.21k [00:00<?, ?B/s]"
            ],
            "application/vnd.jupyter.widget-view+json": {
              "version_major": 2,
              "version_minor": 0,
              "model_id": "3bcbeef4fdf54bd5a4ca5cd64fd888e8"
            }
          },
          "metadata": {}
        },
        {
          "output_type": "stream",
          "name": "stderr",
          "text": [
            "/usr/local/lib/python3.10/dist-packages/transformers/models/t5/tokenization_t5.py:238: FutureWarning: This tokenizer was incorrectly instantiated with a model max length of 512 which will be corrected in Transformers v5.\n",
            "For now, this behavior is kept to avoid breaking backwards compatibility when padding/encoding with `truncation is True`.\n",
            "- Be aware that you SHOULD NOT rely on t5-base automatically truncating your input to 512 when padding/encoding.\n",
            "- If you want to encode/pad to sequences longer than 512 you can either instantiate this tokenizer with `model_max_length` or pass `max_length` when encoding/padding.\n",
            "- To avoid this warning, please instantiate this tokenizer with `model_max_length` set to your preferred value.\n",
            "  warnings.warn(\n",
            "You are using the default legacy behaviour of the <class 'transformers.models.t5.tokenization_t5.T5Tokenizer'>. This is expected, and simply means that the `legacy` (previous) behavior will be used so nothing changes for you. If you want to use the new behaviour, set `legacy=False`. This should only be set if you understand what it means, and thouroughly read the reason why this was added as explained in https://github.com/huggingface/transformers/pull/24565\n"
          ]
        }
      ]
    },
    {
      "cell_type": "markdown",
      "source": [
        "## 4. Making the dataset 💽:\n",
        "The main idea behind making the dataset is, to pre-process the input into a given format, and then provide the input to the model. So, simply just the image path, and the other configurations, and boom 💥, you would get the desired pre-processed input"
      ],
      "metadata": {
        "id": "8l8qH9ZYDFjh"
      }
    },
    {
      "cell_type": "code",
      "source": [
        "# sent = tokenizer.encode(\"what is the url in the picture?\", max_length = 512, truncation = True, padding = 'max_length', return_tensors = 'pt')[0]\n",
        "# dec_sent = tokenizer.decode(sent, skip_special_tokens = True)\n",
        "# dec_sent"
      ],
      "metadata": {
        "trusted": true,
        "id": "VPgaO6cNIHvh"
      },
      "execution_count": 22,
      "outputs": []
    },
    {
      "cell_type": "code",
      "source": [
        "## Defining the pytorch dataset\n",
        "\n",
        "from torch.utils.data import Dataset, DataLoader\n",
        "import torch\n",
        "from torchvision import transforms\n",
        "\n",
        "class TextVQA(Dataset):\n",
        "  def __init__(self, base_img_path, json_df, ocr_json_df, tokenizer, transform = None, max_seq_length = 512, target_size = (500,384), fine_tune = True):\n",
        "\n",
        "    self.base_img_path = base_img_path\n",
        "    self.json_df = json_df\n",
        "    self.ocr_json_df = ocr_json_df\n",
        "    self.tokenizer = tokenizer\n",
        "    self.target_size = target_size\n",
        "    self.transform = transform\n",
        "    self.max_seq_length = max_seq_length\n",
        "    self.fine_tune = fine_tune\n",
        "\n",
        "  def __len__(self):\n",
        "    return len(self.json_df)\n",
        "\n",
        "  def __getitem__(self, idx):\n",
        "\n",
        "    curr_img = self.json_df.iloc[idx]['image_id']\n",
        "    ocr_token = self.ocr_json_df[self.ocr_json_df['image_id']==curr_img]['ocr_info'].values.tolist()[0]\n",
        "\n",
        "    boxes = []\n",
        "    words = []\n",
        "\n",
        "    current_group = self.json_df.iloc[idx]\n",
        "    width, height = current_group['image_width'], current_group['image_height']\n",
        "\n",
        "    ## Getting the ocr and the corresponding bounding boxes\n",
        "    for entry in ocr_token:\n",
        "      xmin, ymin, w, h, angle = entry['bounding_box']['top_left_x'], entry['bounding_box']['top_left_y'],  entry['bounding_box']['width'],  entry['bounding_box']['height'], entry['bounding_box']['rotation']\n",
        "      xmin, ymin,w, h = resize_align_bbox([xmin, ymin, w, h], 1, 1, width, height)\n",
        "\n",
        "      x_centre = xmin + (w/2)\n",
        "      y_centre = ymin + (h/2)\n",
        "\n",
        "      ## print(\"The angle is:\", angle)\n",
        "      xmin, ymin = rotate([x_centre, y_centre], [xmin, ymin], angle)\n",
        "\n",
        "      xmax = xmin + w\n",
        "      ymax = ymin + h\n",
        "\n",
        "      ## Bounding boxes are normalized\n",
        "      curr_bbox = [xmin, ymin, xmax, ymax]\n",
        "      boxes.append(curr_bbox)\n",
        "      words.append(entry['word'])\n",
        "\n",
        "    img_path = os.path.join(self.base_img_path, curr_img)+'.jpg'  ## Adding .jpg at end of the image, as the grouped key does not have the extension format\n",
        "\n",
        "    assert os.path.exists(img_path)==True, f'Make sure that the image exists at {img_path}!!'\n",
        "    ## Extracting the feature\n",
        "\n",
        "    if self.fine_tune:\n",
        "\n",
        "        ## For fine-tune stage, they use [0, 0, 1000, 1000] for all the bounding box\n",
        "        img = Image.open(img_path).convert(\"RGB\")\n",
        "        img = img.resize(self.target_size)\n",
        "        boxes = torch.zeros(self.max_seq_length, 4)\n",
        "        boxes[:, 2] = 1000\n",
        "        boxes[:, 3] = 1000\n",
        "\n",
        "        words = \" \".join(words)\n",
        "        tokenized_words = self.tokenizer.encode(words, max_length = self.max_seq_length, truncation = True, padding = 'max_length', return_tensors = 'pt')[0]\n",
        "\n",
        "    else:\n",
        "        ## For pre-train, this strategy would be useful\n",
        "        img, boxes, tokenized_words = create_features(image_path = img_path,\n",
        "                                                      tokenizer = self.tokenizer,\n",
        "                                                      target_size = self.target_size,\n",
        "                                                      max_seq_length = self.max_seq_length,\n",
        "                                                      use_ocr = False,\n",
        "                                                      bounding_box = boxes,\n",
        "                                                      words = words\n",
        "                                                      )\n",
        "\n",
        "    ## Converting the boxes as per the format required for model input\n",
        "    boxes = torch.as_tensor(boxes, dtype=torch.int32)\n",
        "    width = (boxes[:, 2] - boxes[:, 0]).view(-1, 1)\n",
        "    height = (boxes[:, 3] - boxes[:, 1]).view(-1, 1)\n",
        "    boxes = torch.cat([boxes, width, height], axis = -1)\n",
        "\n",
        "    ## Clamping the value,as some of the box values are out of bound\n",
        "    boxes[:, 0] = torch.clamp(boxes[:, 0], min = 0, max = 1000)\n",
        "    boxes[:, 2] = torch.clamp(boxes[:, 2], min = 0, max = 1000)\n",
        "    boxes[:, 4] = torch.clamp(boxes[:, 4], min = 0, max = 1000)\n",
        "\n",
        "    boxes[:, 1] = torch.clamp(boxes[:, 1], min = 0, max = 1000)\n",
        "    boxes[:, 3] = torch.clamp(boxes[:, 3], min = 0, max = 1000)\n",
        "    boxes[:, 5] = torch.clamp(boxes[:, 5], min = 0, max = 1000)\n",
        "\n",
        "    ## Tensor tokenized words\n",
        "    tokenized_words = torch.as_tensor(tokenized_words, dtype=torch.int32)\n",
        "\n",
        "    if self.transform is not None:\n",
        "      img = self.transform(img)\n",
        "    else:\n",
        "      img = transforms.ToTensor()(img)\n",
        "\n",
        "\n",
        "    ## Getting the Question\n",
        "    question = current_group['question']\n",
        "    question = convert_ques_to_token(question = question, tokenizer = self.tokenizer)\n",
        "\n",
        "    ## Getting the Answer\n",
        "    answer = current_group['answers']\n",
        "    answer = convert_ques_to_token(question = answer, tokenizer = self.tokenizer).long()\n",
        "\n",
        "    return {'img':img, 'boxes': boxes, 'tokenized_words': tokenized_words, 'question': question, 'answer': answer, 'id': torch.as_tensor(idx)}"
      ],
      "metadata": {
        "id": "X9jE7KKRPFkg",
        "trusted": true
      },
      "execution_count": 23,
      "outputs": []
    },
    {
      "cell_type": "code",
      "source": [
        "train_ds = TextVQA(base_img_path = base_img_path,\n",
        "                   json_df = train_json_df,\n",
        "                   ocr_json_df = train_ocr_json_df,\n",
        "                   tokenizer = tokenizer,\n",
        "                   transform = None,\n",
        "                   max_seq_length = max_seq_len,\n",
        "                   target_size = target_size\n",
        "                   )\n",
        "\n",
        "\n",
        "val_ds = TextVQA(base_img_path = base_img_path,\n",
        "                   json_df = val_json_df,\n",
        "                   ocr_json_df = val_ocr_json_df,\n",
        "                   tokenizer = tokenizer,\n",
        "                   transform = None,\n",
        "                   max_seq_length = max_seq_len,\n",
        "                   target_size = target_size\n",
        "                   )"
      ],
      "metadata": {
        "id": "ybhCeKY2aSZd",
        "trusted": true
      },
      "execution_count": 24,
      "outputs": []
    },
    {
      "cell_type": "code",
      "source": [
        "idx = 1569"
      ],
      "metadata": {
        "id": "oPpnuqANe6j8",
        "trusted": true
      },
      "execution_count": 25,
      "outputs": []
    },
    {
      "cell_type": "code",
      "source": [
        "encoding = train_ds[idx]  ## Might take time as per the processing\n",
        "for key in list(encoding.keys()):\n",
        "  print_statement = '{0: <30}'.format(str(key) + \" has a shape:\")\n",
        "  print(print_statement, encoding[key].shape)"
      ],
      "metadata": {
        "id": "LwbsVenve7n7",
        "trusted": true,
        "colab": {
          "base_uri": "https://localhost:8080/"
        },
        "outputId": "cf3cbfaa-6917-43c0-e33e-c6939576b86f"
      },
      "execution_count": 26,
      "outputs": [
        {
          "output_type": "stream",
          "name": "stdout",
          "text": [
            "img has a shape:               torch.Size([3, 384, 500])\n",
            "boxes has a shape:             torch.Size([512, 6])\n",
            "tokenized_words has a shape:   torch.Size([512])\n",
            "question has a shape:          torch.Size([512])\n",
            "answer has a shape:            torch.Size([512])\n",
            "id has a shape:                torch.Size([])\n"
          ]
        }
      ]
    },
    {
      "cell_type": "code",
      "source": [
        "## Sample Img, Sample box, sample words, sample answer, sample question\n",
        "\n",
        "s_img = encoding['img']\n",
        "s_boxes = encoding['boxes']\n",
        "s_words = encoding['tokenized_words']\n",
        "s_ans = encoding['answer']\n",
        "s_ques = encoding['question']"
      ],
      "metadata": {
        "id": "AGUXoIWkf9lP",
        "trusted": true
      },
      "execution_count": 27,
      "outputs": []
    },
    {
      "cell_type": "markdown",
      "source": [
        "## Decoding the Question, Answer as well as the Image for the post-processing"
      ],
      "metadata": {
        "id": "sFfIfM8_K_gX"
      }
    },
    {
      "cell_type": "markdown",
      "source": [
        "### 1. Image Part"
      ],
      "metadata": {
        "id": "1DjQAqAfMvWA"
      }
    },
    {
      "cell_type": "code",
      "source": [
        "## OCR and Image part\n",
        "actual_img = transforms.ToPILImage()(s_img).convert(\"RGB\")\n",
        "actual_boxes = s_boxes[:, :4].numpy().tolist()  ## (xmin, ymin, xmax, ymax)"
      ],
      "metadata": {
        "id": "uFs-5XMigMD-",
        "trusted": true
      },
      "execution_count": 28,
      "outputs": []
    },
    {
      "cell_type": "code",
      "source": [
        "## If use fine_tune = False, we can get the ocr as well\n",
        "\n",
        "# from PIL import Image, ImageDraw\n",
        "\n",
        "# # create rectangle image\n",
        "# draw_on_img = ImageDraw.Draw(actual_img)\n",
        "\n",
        "# for box in actual_boxes:\n",
        "#     draw_on_img.rectangle(box, outline =\"red\")\n"
      ],
      "metadata": {
        "id": "QEgQAAZOgdvU",
        "trusted": true
      },
      "execution_count": 29,
      "outputs": []
    },
    {
      "cell_type": "code",
      "source": [
        "actual_img"
      ],
      "metadata": {
        "id": "hYitD-Uwx5EY",
        "outputId": "9315bbff-dfdb-445e-f483-b16eac5ddd0c",
        "trusted": true,
        "colab": {
          "base_uri": "https://localhost:8080/",
          "height": 401
        }
      },
      "execution_count": 30,
      "outputs": [
        {
          "output_type": "execute_result",
          "data": {
            "text/plain": [
              "<PIL.Image.Image image mode=RGB size=500x384>"
            ],
            "image/png": "[encoded data removed]",
            "image/jpeg": "[encoded data removed]"
          },
          "metadata": {},
          "execution_count": 30
        }
      ]
    },
    {
      "cell_type": "markdown",
      "source": [
        "### 2. Question Part"
      ],
      "metadata": {
        "id": "sSBYRkXdMy-o"
      }
    },
    {
      "cell_type": "code",
      "source": [
        "decoded_ques = convert_token_to_ques(s_ques, tokenizer)\n",
        "print(decoded_ques)  ## Goes well!!"
      ],
      "metadata": {
        "id": "RZMwxyHMMW3r",
        "outputId": "2ce132ea-a87b-48a2-f51d-aaf916c1368b",
        "trusted": true,
        "colab": {
          "base_uri": "https://localhost:8080/"
        }
      },
      "execution_count": 31,
      "outputs": [
        {
          "output_type": "stream",
          "name": "stdout",
          "text": [
            "what is the url in the picture?\n"
          ]
        }
      ]
    },
    {
      "cell_type": "markdown",
      "source": [
        "### 3. Answer Part"
      ],
      "metadata": {
        "id": "e19RH2OfM1ID"
      }
    },
    {
      "cell_type": "code",
      "source": [
        "decoded_answer = convert_token_to_ques(s_ans, tokenizer)\n",
        "print(decoded_answer)  ## Goes Well!!"
      ],
      "metadata": {
        "id": "4rBNtJJeO8IQ",
        "outputId": "eac0d444-3df9-4a1c-a2be-7c396f84120d",
        "trusted": true,
        "colab": {
          "base_uri": "https://localhost:8080/"
        }
      },
      "execution_count": 32,
      "outputs": [
        {
          "output_type": "stream",
          "name": "stdout",
          "text": [
            "raillife.com raillife.com raillife.com raillife.com raillife.com raillife.com raillife.com raillife.com raillife.com raillife.com\n"
          ]
        }
      ]
    },
    {
      "cell_type": "markdown",
      "source": [
        "## 4.2. Making the Collate function for DataLoader:\n",
        "\n",
        "More on collate function can be known from [here](https://stackoverflow.com/questions/65279115/how-to-use-collate-fn-with-dataloaders)"
      ],
      "metadata": {
        "id": "nRNEhRLIUiY_"
      }
    },
    {
      "cell_type": "code",
      "source": [
        "from transformers import ViTFeatureExtractor, ViTModel\n",
        "vit_feat_extract = ViTFeatureExtractor(\"google/vit-base-patch16-224-in21k\")"
      ],
      "metadata": {
        "id": "O2Kd4Gw52FEo",
        "execution": {
          "iopub.status.busy": "2022-07-03T07:05:44.529388Z",
          "iopub.execute_input": "2022-07-03T07:05:44.529726Z",
          "iopub.status.idle": "2022-07-03T07:05:44.537709Z",
          "shell.execute_reply.started": "2022-07-03T07:05:44.52969Z",
          "shell.execute_reply": "2022-07-03T07:05:44.536722Z"
        },
        "trusted": true,
        "colab": {
          "base_uri": "https://localhost:8080/"
        },
        "outputId": "3961dcf6-bafc-40b8-a74f-fec18478bf39"
      },
      "execution_count": 33,
      "outputs": [
        {
          "output_type": "stream",
          "name": "stderr",
          "text": [
            "/usr/local/lib/python3.10/dist-packages/transformers/models/vit/feature_extraction_vit.py:28: FutureWarning: The class ViTFeatureExtractor is deprecated and will be removed in version 5 of Transformers. Please use ViTImageProcessor instead.\n",
            "  warnings.warn(\n"
          ]
        }
      ]
    },
    {
      "cell_type": "code",
      "source": [
        "def collate_fn(data_bunch):\n",
        "\n",
        "  '''\n",
        "  A function for the dataloader to return a batch dict of given keys\n",
        "\n",
        "  data_bunch: List of dictionary\n",
        "  '''\n",
        "\n",
        "  dict_data_bunch = {}\n",
        "\n",
        "  for i in data_bunch:\n",
        "    for (key, value) in i.items():\n",
        "      if key not in dict_data_bunch:\n",
        "        dict_data_bunch[key] = []\n",
        "      dict_data_bunch[key].append(value)\n",
        "\n",
        "  for key in list(dict_data_bunch.keys()):\n",
        "      dict_data_bunch[key] = torch.stack(dict_data_bunch[key], axis = 0)\n",
        "\n",
        "  if 'img' in dict_data_bunch:\n",
        "    ## Pre-processing for ViT\n",
        "    dict_data_bunch['img'] = vit_feat_extract(list(dict_data_bunch['img']),return_tensors = 'pt')['pixel_values']\n",
        "\n",
        "  return dict_data_bunch"
      ],
      "metadata": {
        "id": "OWJX6VFFN6su",
        "trusted": true
      },
      "execution_count": 34,
      "outputs": []
    },
    {
      "cell_type": "markdown",
      "source": [
        "## 5. Defining the DataModule 📖\n",
        "\n",
        "* A datamodule is a shareable, reusable class that encapsulates all the steps needed to process data:\n",
        "\n",
        "* A DataModule is simply a collection of a train_dataloader(s), val_dataloader(s), test_dataloader(s) and predict_dataloader(s) along with the matching transforms and data processing/downloads steps required.\n",
        "\n",
        "\n"
      ],
      "metadata": {
        "id": "l5tETD-fIHvr"
      }
    },
    {
      "cell_type": "code",
      "source": [
        "class DataModule(pl.LightningDataModule):\n",
        "\n",
        "  def __init__(self, train_dataset, val_dataset,  batch_size = 1):\n",
        "\n",
        "    super(DataModule, self).__init__()\n",
        "    self.train_dataset = train_dataset\n",
        "    self.val_dataset = val_dataset\n",
        "    self.batch_size = batch_size\n",
        "\n",
        "\n",
        "  ## The parameters for Dataloader have been taken from here: https://docs.mosaicml.com/en/v0.7.1/trainer/dataloaders.html#passing-a-pytorch-dataloader\n",
        "  def train_dataloader(self):\n",
        "    return DataLoader(self.train_dataset, batch_size = self.batch_size,\n",
        "                      collate_fn = collate_fn, shuffle = True, num_workers = 2, pin_memory = True, persistent_workers = True)\n",
        "\n",
        "  def val_dataloader(self):\n",
        "    return DataLoader(self.val_dataset, batch_size = self.batch_size,\n",
        "                    collate_fn = collate_fn, shuffle = False, num_workers = 2, pin_memory = True, persistent_workers = True)"
      ],
      "metadata": {
        "id": "r9jqgGGkUkeO",
        "trusted": true
      },
      "execution_count": 35,
      "outputs": []
    },
    {
      "cell_type": "markdown",
      "source": [
        "## 6. Modeling Part 🏎️\n",
        "1. Firstly, we would define the pytorch model with our configurations\n",
        "2. Secondly, we would encode it in the PyTorch Lightening module, and boom 💥 our work of defining the model is done"
      ],
      "metadata": {
        "id": "rFQUQOr7w_9q"
      }
    },
    {
      "cell_type": "code",
      "source": [
        "## keys are img, boxes, tokenized_words, answer, question"
      ],
      "metadata": {
        "id": "-btmDfw-UxNZ",
        "trusted": true
      },
      "execution_count": 36,
      "outputs": []
    },
    {
      "cell_type": "code",
      "source": [
        "config = {\n",
        "    't5_model': 't5-base',\n",
        "    'vocab_size': 32128,\n",
        "    'hidden_state': 768,\n",
        "    'max_2d_position_embeddings': 1001,\n",
        "    'classes': 32128,  ## number of tokens\n",
        "    'seq_len': 512\n",
        "}"
      ],
      "metadata": {
        "id": "0kJ2kOk4yW1E",
        "trusted": true
      },
      "execution_count": 37,
      "outputs": []
    },
    {
      "cell_type": "code",
      "source": [
        "device = 'cuda' if torch.cuda.is_available() else 'cpu'"
      ],
      "metadata": {
        "id": "nEp9Bm2D3-SM",
        "trusted": true
      },
      "execution_count": 38,
      "outputs": []
    },
    {
      "cell_type": "code",
      "source": [
        "# finetuned_latr = LaTr_for_finetuning(config).to(device)\n",
        "# datamodule = DataModule(train_ds, val_ds)"
      ],
      "metadata": {
        "id": "sa0JrVmp0_Od",
        "trusted": true
      },
      "execution_count": 39,
      "outputs": []
    },
    {
      "cell_type": "code",
      "source": [
        "from sklearn.metrics import accuracy_score\n",
        "def calculate_acc_score(pred, gt):\n",
        "\n",
        "    ## Function ignores the calculation of padding part\n",
        "    ## Shape (seq_len, seq_len)\n",
        "    mask = torch.clamp(gt, min = 0, max = 1)\n",
        "    last_non_zero_argument = (mask != 0).nonzero()[1][-1]\n",
        "    pred = pred[:last_non_zero_argument]\n",
        "    gt = gt[:last_non_zero_argument]  ## Include all the arguments till the first padding index\n",
        "\n",
        "    return accuracy_score(pred, gt)"
      ],
      "metadata": {
        "trusted": true,
        "id": "0V0MAtjwIHvv"
      },
      "execution_count": 40,
      "outputs": []
    },
    {
      "cell_type": "code",
      "source": [
        "## https://stackoverflow.com/questions/69899602/linear-decay-as-learning-rate-scheduler-pytorch\n",
        "def polynomial(base_lr, iter, max_iter = 1e5, power = 1):\n",
        "    return base_lr * ((1 - float(iter) / max_iter) ** power)\n",
        "\n",
        "class LaTrForVQA(pl.LightningModule):\n",
        "  def __init__(self, config , learning_rate = 1e-4, max_steps = 100000//2):\n",
        "    super(LaTrForVQA, self).__init__()\n",
        "\n",
        "    self.config = config\n",
        "    self.save_hyperparameters()\n",
        "    self.latr =  LaTr_for_finetuning(config)\n",
        "    self.training_losses = []\n",
        "    self.validation_losses = []\n",
        "    self.max_steps = max_steps\n",
        "\n",
        "#   def configure_optimizers(self):\n",
        "#     optimizer = torch.optim.AdamW(self.parameters(), lr = self.hparams['learning_rate'])\n",
        "#     warmup_scheduler = warmup.LinearWarmup(optimizer, warmup_period = 1000)\n",
        "#     scheduler = torch.optim.lr_scheduler.LinearLR(optimizer,total_iters  = self.max_steps,  verbose = True)\n",
        "#     return [optimizer], [{\"scheduler\": (lr_scheduler, warmup_scheduler), \"interval\": \"step\"}]\n",
        "\n",
        "#   def lr_scheduler_step(self, scheduler, optimizer_idx, metric):\n",
        "#         lr_scheduler, warmup_scheduler = scheduler\n",
        "#         with warmup_scheduler.dampening():\n",
        "#                 lr_scheduler.step()\n",
        "\n",
        "  def configure_optimizers(self):\n",
        "    return torch.optim.AdamW(self.parameters(), lr = self.hparams['learning_rate'])\n",
        "\n",
        "\n",
        "  def forward(self, batch_dict):\n",
        "    boxes =   batch_dict['boxes']\n",
        "    img =     batch_dict['img']\n",
        "    question = batch_dict['question']\n",
        "    words =   batch_dict['tokenized_words']\n",
        "    answer_vector = self.latr(lang_vect = words,\n",
        "                               spatial_vect = boxes,\n",
        "                               img_vect = img,\n",
        "                               quest_vect = question\n",
        "                               )\n",
        "    return answer_vector\n",
        "\n",
        "  def calculate_metrics(self, prediction, labels):\n",
        "\n",
        "      ## Calculate the accuracy score between the prediction and ground label for a batch, with considering the pad sequence\n",
        "      batch_size = len(prediction)\n",
        "      ac_score = 0\n",
        "\n",
        "      for (pred, gt) in zip(prediction, labels):\n",
        "        ac_score+= calculate_acc_score(pred.detach().cpu(), gt.detach().cpu())\n",
        "      ac_score = ac_score/batch_size\n",
        "      return ac_score\n",
        "\n",
        "  def training_step(self, batch, batch_idx):\n",
        "    answer_vector = self.forward(batch)\n",
        "\n",
        "    ## https://discuss.huggingface.co/t/bertformaskedlm-s-loss-and-scores-how-the-loss-is-computed/607/2\n",
        "    loss = nn.CrossEntropyLoss()(answer_vector.reshape(-1,self.config['classes']), batch['answer'].reshape(-1))\n",
        "    _, preds = torch.max(answer_vector, dim = -1)\n",
        "\n",
        "    ## Calculating the accuracy score\n",
        "    train_acc = self.calculate_metrics(preds, batch['answer'])\n",
        "    train_acc = torch.tensor(train_acc)\n",
        "\n",
        "    ## Logging\n",
        "    self.log('train_ce_loss', loss,prog_bar = True)\n",
        "    self.log('train_acc', train_acc, prog_bar = True)\n",
        "    self.training_losses.append(loss.item())\n",
        "\n",
        "    return loss\n",
        "\n",
        "  def validation_step(self, batch, batch_idx):\n",
        "    logits = self.forward(batch)\n",
        "    loss = nn.CrossEntropyLoss()(logits.reshape(-1,self.config['classes']), batch['answer'].reshape(-1))\n",
        "    _, preds = torch.max(logits, dim = -1)\n",
        "\n",
        "    ## Validation Accuracy\n",
        "    val_acc = self.calculate_metrics(preds.cpu(), batch['answer'].cpu())\n",
        "    val_acc = torch.tensor(val_acc)\n",
        "\n",
        "    ## Logging\n",
        "    self.log('val_ce_loss', loss, prog_bar = True)\n",
        "    self.log('val_acc', val_acc, prog_bar = True)\n",
        "\n",
        "    return {'val_loss': loss, 'val_acc': val_acc}\n",
        "  ## For the fine-tuning stage, Warm-up period is set to 1,000 steps and again is linearly decayed to zero, pg. 12, of the paper\n",
        "  ## Refer here: https://github.com/Lightning-AI/lightning/issues/328#issuecomment-550114178\n",
        "\n",
        "  def optimizer_step(self, epoch_nb, batch_nb, optimizer, optimizer_i, opt_closure = None, on_tpu=False,\n",
        "    using_native_amp=False, using_lbfgs=False):\n",
        "\n",
        "        ## Warmup for 1000 steps\n",
        "        if self.trainer.global_step < 1000:\n",
        "            lr_scale = min(1., float(self.trainer.global_step + 1) / 1000.)\n",
        "            for pg in optimizer.param_groups:\n",
        "                pg['lr'] = lr_scale * self.hparams.learning_rate\n",
        "\n",
        "        ## Linear Decay\n",
        "        else:\n",
        "            for pg in optimizer.param_groups:\n",
        "                pg['lr'] = polynomial(self.hparams.learning_rate, self.trainer.global_step, max_iter = self.max_steps)\n",
        "\n",
        "        optimizer.step(opt_closure)\n",
        "        optimizer.zero_grad()\n",
        "\n",
        "  def validation_epoch_end(self, outputs):\n",
        "\n",
        "\n",
        "        val_loss = torch.stack([x['val_loss'] for x in outputs]).mean()\n",
        "        val_acc = torch.stack([x['val_acc'] for x in outputs]).mean()\n",
        "\n",
        "        self.log('val_loss_epoch_end', val_loss, on_epoch=True, sync_dist=True)\n",
        "        self.log('val_acc_epoch_end', val_acc, on_epoch=True, sync_dist=True)\n",
        "\n",
        "        self.val_prediction = []\n",
        "\n",
        "#   def training_epoch_end(self, training_step_outputs):\n",
        "#     train_loss_mean = np.mean(self.training_losses)\n",
        "#     self.logger.experiment.add_scalar('training_loss', train_loss_mean, global_step=self.current_epoch)\n",
        "#     self.training_losses = []  # reset for next epoch\n",
        "\n",
        "#   def validation_epoch_end(self, validation_step_outputs):\n",
        "#     val_loss_mean = np.mean(self.training_losses)\n",
        "#     self.logger.experiment.add_scalar('validation_loss', val_loss_mean, global_step=self.current_epoch)\n",
        "#     self.validation_losses = []  # reset for next epoch"
      ],
      "metadata": {
        "id": "UtvisUqvmSz3",
        "trusted": true
      },
      "execution_count": 41,
      "outputs": []
    },
    {
      "cell_type": "code",
      "source": [
        "url_for_ckpt = 'https://www.kaggleusercontent.com/kf/99663112/eyJhbGciOiJkaXIiLCJlbmMiOiJBMTI4Q0JDLUhTMjU2In0..GfuZWkqwWi9nROCTnAS3OQ.YowTb3CNlES2WS_F6BvOSrGs3uLWc2kSBkhElYUcndML0Feuiizdu8trA2e4aj_kdluv1nYlVpS3_86VaJfgSBtyJShQoB0CyxCqdvdMiKl4eQQdWUv2XrTBecEJPXupdFaElzr57CcRjpz35rueyDjf3GVJLznkpSdoyWwSxoxCACbUpS73PKWi97WHfPmEWQgXTDxT_Uno_Pau6fayKyzJ-vWrETzOA2Z6f1-i7umK48D7JBQacS2g_40dW8wIH34QsztCZhHOake7qZnXU_19qaFeDQCNldZ4HcGAmKMtqYI_NK_By370IZ6OHe5Q-mh1f_9SaZoXCzzgaNx4Wsw1THZgzSjZgP2dTLP6a4ZkjHFWiZdkl0azvmoCmSVVYbRdQ9_iI9sFvhUpDWj1bOlr-Zrq9gRi8ksaH9rIzrzk63x_fKPGphZKpxB_l_6iewdGt4yb3GB8kWyGrxBnsGvV5Ei7gTaqv9OAkSKTACMEKB-rj-T8HKtk3ktnEqGMCpHTpkB8RYE6EqYRPbnSYMShjZb12GSn5uYntLtcG7MUbQX-OMt0vzh9fag_zpCyO89K56jxZ6Q9kWdADG0C2T0nR8uC8vWUUBptWNc2tt6pcupcUO19kt7ddNHMbxajHym5AijizrfJbkqnujEodlHWc8C77PawpX2xUPvIlbSvhbdsRRyYfOFGLmZsDdKa.c9dgiKXE5w_-qo4J3He6Qw/models/epoch=0-step=34602.ckpt'"
      ],
      "metadata": {
        "trusted": true,
        "id": "nQC_KW4wIHvv"
      },
      "execution_count": 42,
      "outputs": []
    },
    {
      "cell_type": "code",
      "source": [
        "from pytorch_lightning.callbacks import ModelCheckpoint\n",
        "from pytorch_lightning.loggers import WandbLogger\n",
        "\n",
        "def main():\n",
        "    datamodule = DataModule(train_ds, val_ds)\n",
        "    max_steps = 50000       ## 60K Steps\n",
        "    latr = LaTrForVQA(config, max_steps= max_steps)\n",
        "\n",
        "    try:\n",
        "        latr = latr.load_from_checkpoint(url_for_ckpt)\n",
        "        print(\"Checkpoint loaded correctly\")\n",
        "    except:\n",
        "        print(\"Could not load checkpoint\")\n",
        "        return\n",
        "\n",
        "    checkpoint_callback = ModelCheckpoint(\n",
        "        dirpath=\"./models\", monitor=\"val_ce_loss\", mode=\"min\"\n",
        "    )\n",
        "\n",
        "    wandb.init(config=config, project=\"VQA with LaTr\")\n",
        "    wandb_logger = WandbLogger(project=\"VQA with LaTr\", log_model = True, entity=\"iakarshu\")\n",
        "\n",
        "    ## https://www.tutorialexample.com/implement-reproducibility-in-pytorch-lightning-pytorch-lightning-tutorial/\n",
        "    pl.seed_everything(42, workers=True)\n",
        "\n",
        "    trainer = pl.Trainer(\n",
        "        max_steps = max_steps,\n",
        "        default_root_dir=\"logs\",\n",
        "        gpus=(1 if torch.cuda.is_available() else 0),\n",
        "#         accelerator=\"tpu\",\n",
        "#         devices=8,\n",
        "        logger=wandb_logger,\n",
        "        callbacks=[checkpoint_callback],\n",
        "        deterministic=True\n",
        "    )\n",
        "\n",
        "    trainer.fit(latr, datamodule)"
      ],
      "metadata": {
        "id": "dR_3-4qxuDIi",
        "trusted": true
      },
      "execution_count": 43,
      "outputs": []
    },
    {
      "cell_type": "code",
      "source": [
        "# sample = LaTr_for_finetuning(config).to(device)"
      ],
      "metadata": {
        "trusted": true,
        "id": "_B84AQCuIHvx"
      },
      "execution_count": 44,
      "outputs": []
    },
    {
      "cell_type": "code",
      "source": [
        "## Debug\n",
        "\n",
        "# for batch in tqdm(DataModule(train_ds, val_ds).train_dataloader(), total = len(DataModule(train_ds, val_ds).train_dataloader())):\n",
        "#     try:\n",
        "#         out = sample.pre_training_model.top_left_y(batch['boxes'][:, :, 1])\n",
        "#         out = sample.pre_training_model.top_left_x(batch['boxes'][:, :, 0])\n",
        "#         out = sample.pre_training_model.bottom_right_x(batch['boxes'][:, :, 2])\n",
        "#         out = sample.pre_training_model.bottom_right_y(batch['boxes'][:, :, 3])\n",
        "#         out = sample.pre_training_model.width_emb(batch['boxes'][:, :, 4])\n",
        "#         out = sample.pre_training_model.height_emb(batch['boxes'][:, :, 5])\n",
        "#     except:\n",
        "#         print(\"Problem found....\")\n",
        "#         break"
      ],
      "metadata": {
        "trusted": true,
        "id": "ZKB3uoQqIHvx"
      },
      "execution_count": 45,
      "outputs": []
    },
    {
      "cell_type": "code",
      "source": [
        "if __name__ == \"__main__\":\n",
        "    main()"
      ],
      "metadata": {
        "id": "OjzjeQ4TuilG",
        "trusted": true,
        "colab": {
          "base_uri": "https://localhost:8080/",
          "height": 162,
          "referenced_widgets": [
            "a45d91a33453470fbda63e31fb4690e0",
            "1f878f84161640cb9d569b6e1abf9b9c",
            "3f89a0f24db44c7c9e9db28f9e1356b0",
            "ce84367ed3b44e15a0478c70251e7855",
            "d1512d952ef14e62b7a108196602b373",
            "adc2f8e7a520432f9cb12c35773fd8a7",
            "5e2f76fabc8247e6aa94e22c1d7b737f",
            "fa7e9459f5894fcb8c17420f55687ca0",
            "81edb06a6d7a4b1382a00be0d8e21339",
            "d157ef59d6cf4e1ca560874ff2011836",
            "c3da587baadb4a959a01c4bc4dfbae79",
            "bf5347569bae4c64bcaa5347d644cac4",
            "2272189d86614c63928e06d9d39b024b",
            "458f5c4898c347d0b2d6a078ce0a6fb7",
            "9900a7e7d3b8497c9a6d5a414137257b",
            "d489e3abee4546ecbeec29a71d6fa402",
            "0135dfa4f11f42c3abddeed21e3c081f",
            "4028576bad3f4342b303d8420c92c5c2",
            "9e932bbc63b443908527fe744a5f297e",
            "be291841297f4232b065afc0ef308976",
            "0962bf7987654359a25cac43661ac06c",
            "cc1da34a3bc54800b0ad3307c7657c65",
            "9b84e320f9374a098b64af258b2b1cbe",
            "0015e767a1424db08f0f7b6ad1c51e41",
            "d95b5f42db224c79a07117978ee1c744",
            "2efc5a3e9a184f468e9bd2ae106c113a",
            "c363886e6f3c48eda9a7880c043dca25",
            "b962b30f687848c28fad008641d60a34",
            "9ff1f30a9b52406393ee23086a62c56e",
            "2f4b7c0e2547436da2fb7453a4aea91e",
            "cbc531fe1bd24d62843eaf2f97d63139",
            "2b381ee4e10b46be9d6914aa9b75d7ce",
            "03753f8f1ff94bf6932ca39d8c17d4d0",
            "ed7872afd68841078dfd8399de18f48f",
            "abb3619b139741058c7fd533bdb79148",
            "7a8d2cd7382d40b18ed6bbab36079ab5",
            "5eca3a3646a546aa86090c5f70dd31dc",
            "e5bdbf74c4164790934199a7be71614c",
            "e56b627bfdcd4a43852b990c8704a0a3",
            "34f44c1a64d246b1b72eedad3b7302cf",
            "85d136dbd0d946468d676642b5b0fc19",
            "1e0ded742f484f3d8497935eeef6f112",
            "09ddf8d5127446289b38fc88981ffcc2",
            "74fe36488e834e73aa53f02c844ffc74"
          ]
        },
        "outputId": "032dbd3d-bf7b-4ff7-d5c5-f3ad27ac9596"
      },
      "execution_count": 46,
      "outputs": [
        {
          "output_type": "display_data",
          "data": {
            "text/plain": [
              "Downloading model.safetensors:   0%|          | 0.00/892M [00:00<?, ?B/s]"
            ],
            "application/vnd.jupyter.widget-view+json": {
              "version_major": 2,
              "version_minor": 0,
              "model_id": "a45d91a33453470fbda63e31fb4690e0"
            }
          },
          "metadata": {}
        },
        {
          "output_type": "display_data",
          "data": {
            "text/plain": [
              "Downloading (…)neration_config.json:   0%|          | 0.00/147 [00:00<?, ?B/s]"
            ],
            "application/vnd.jupyter.widget-view+json": {
              "version_major": 2,
              "version_minor": 0,
              "model_id": "bf5347569bae4c64bcaa5347d644cac4"
            }
          },
          "metadata": {}
        },
        {
          "output_type": "display_data",
          "data": {
            "text/plain": [
              "Downloading (…)lve/main/config.json:   0%|          | 0.00/502 [00:00<?, ?B/s]"
            ],
            "application/vnd.jupyter.widget-view+json": {
              "version_major": 2,
              "version_minor": 0,
              "model_id": "9b84e320f9374a098b64af258b2b1cbe"
            }
          },
          "metadata": {}
        },
        {
          "output_type": "display_data",
          "data": {
            "text/plain": [
              "Downloading pytorch_model.bin:   0%|          | 0.00/346M [00:00<?, ?B/s]"
            ],
            "application/vnd.jupyter.widget-view+json": {
              "version_major": 2,
              "version_minor": 0,
              "model_id": "ed7872afd68841078dfd8399de18f48f"
            }
          },
          "metadata": {}
        },
        {
          "output_type": "stream",
          "name": "stdout",
          "text": [
            "Could not load checkpoint\n"
          ]
        }
      ]
    },
    {
      "cell_type": "markdown",
      "source": [
        "## References:\n",
        "\n",
        "1. [MLOps Repo](https://github.com/graviraja/MLOps-Basics) (For the integration of model and data with PyTorch Lightening)\n",
        "2. [PyTorch Lightening Docs](https://pytorch-lightning.readthedocs.io/en/stable/index.html) For all the doubts and bugs\n",
        "3. [My Repo](https://github.com/uakarsh/latr) For downloading the model and pre-processing steps\n",
        "4. Google for other stuffs"
      ],
      "metadata": {
        "id": "ANaOM9uLIHvy"
      }
    }
  ]
}